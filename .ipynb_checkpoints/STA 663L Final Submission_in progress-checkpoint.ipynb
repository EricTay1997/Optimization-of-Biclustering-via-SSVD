{
 "cells": [
  {
   "cell_type": "code",
   "execution_count": 37,
   "metadata": {},
   "outputs": [],
   "source": [
    "import numpy as np\n",
    "import seaborn as sns\n",
    "import matplotlib.pyplot as plt\n",
    "import copy\n",
    "from sklearn.cluster import SpectralBiclustering\n",
    "import numpy as np\n",
    "import numba\n",
    "from numba import jit\n",
    "from sparsesvd import sparsesvd\n",
    "from scipy.sparse import csc_matrix"
   ]
  },
  {
   "cell_type": "code",
   "execution_count": null,
   "metadata": {},
   "outputs": [],
   "source": [
    "pip install -i https://test.pypi.org/simple/ ssvd-pkg-cathy10"
   ]
  },
  {
   "cell_type": "code",
   "execution_count": 3,
   "metadata": {},
   "outputs": [],
   "source": [
    "from SSVD_pkg.algorithms import ssvd_original, ssvd_new"
   ]
  },
  {
   "cell_type": "code",
   "execution_count": 25,
   "metadata": {},
   "outputs": [],
   "source": [
    "def ssvd_original(X, tol = 1e-3, lambda_us = None, lambda_vs = None, gamma1s = [2], gamma2s = [2], max_iter = 20, sparse_decomp = False):\n",
    "    \n",
    "    def BIC_v(lambda_v):\n",
    "        v = abs(v_hat) - lambda_v*w2/2\n",
    "        df = np.sum(v > 0)\n",
    "        v[v <= 0] = 0\n",
    "        v *= np.sign(v_hat)\n",
    "        return (np.linalg.norm(X - u @ v.T)**2/sigma_sq_hat + np.log(nd)*df, v)\n",
    "    \n",
    "    def BIC_u(lambda_u):\n",
    "        u = abs(u_hat) - lambda_u*w1/2\n",
    "        df = np.sum(u > 0)\n",
    "        u[u <= 0] = 0\n",
    "        u *= np.sign(u_hat)\n",
    "        return (np.linalg.norm(X - u @ v.T)**2/sigma_sq_hat + np.log(nd)*df, u)\n",
    "    \n",
    "    if sparse_decomp:\n",
    "        u, s, v = sparsesvd(csc_matrix(X), 1)\n",
    "        u = u.reshape(-1,1)\n",
    "        s = s[0]\n",
    "        v = v.reshape(-1,1)\n",
    "    else:\n",
    "        U, S, V = np.linalg.svd(X, full_matrices = False)\n",
    "        u = U[:,0][:,None]\n",
    "        v = V[0,:][:,None]\n",
    "        s = S[0]\n",
    "    n, d = X.shape\n",
    "    nd = n*d\n",
    "    iter_num = 0\n",
    "    is_lambda_us_given = lambda_us is not None\n",
    "    is_lambda_vs_given = lambda_vs is not None\n",
    "    \n",
    "    while iter_num < max_iter:\n",
    "        \n",
    "        # Update v\n",
    "        v_hat = X.T @ u\n",
    "        if all(v_hat == 0):\n",
    "            v_new = v_hat\n",
    "        else:\n",
    "            sigma_sq_hat = np.linalg.norm(X - u @ v_hat.T)**2/(nd-d)\n",
    "            min_BIC_val = float('inf')\n",
    "            for gamma2 in gamma2s:\n",
    "                w2 = np.abs(v_hat)**-gamma2\n",
    "                if not is_lambda_vs_given:\n",
    "                    lambda_vs = abs(v_hat)*2/w2\n",
    "                BIC_vals, v_vals = list(zip(*list(map(BIC_v, lambda_vs))))\n",
    "                if np.min(BIC_vals) < min_BIC_val:\n",
    "                    min_BIC_val = np.min(BIC_vals)\n",
    "                    v_new = v_vals[np.argmin(BIC_vals)]\n",
    "                    if not all(v_new == 0):\n",
    "                        v_new = v_new/np.linalg.norm(v_new)\n",
    "        delta_v_norm = np.linalg.norm(v_new - v)\n",
    "        v = v_new\n",
    "        \n",
    "        # Update u\n",
    "        u_hat = X @ v\n",
    "        if all(u_hat == 0):\n",
    "            u_new = u_hat\n",
    "        else:\n",
    "            sigma_sq_hat = np.linalg.norm(X - u_hat @ v.T)**2/(nd-n)\n",
    "            min_BIC_val = float('inf')\n",
    "            for gamma1 in gamma1s:\n",
    "                w1 = np.abs(u_hat)**-gamma1\n",
    "                if not is_lambda_us_given:\n",
    "                    lambda_us = abs(u_hat)*2/w1\n",
    "                BIC_vals, u_vals = list(zip(*list(map(BIC_u, lambda_us))))\n",
    "                if np.min(BIC_vals) < min_BIC_val:\n",
    "                    min_BIC_val = np.min(BIC_vals)\n",
    "                    u_new = u_vals[np.argmin(BIC_vals)]\n",
    "                    if not all (u_new == 0):\n",
    "                        u_new = u_new/np.linalg.norm(u_new)\n",
    "        delta_u_norm = np.linalg.norm(u_new - u)\n",
    "        u = u_new\n",
    "        \n",
    "        iter_num += 1\n",
    "    \n",
    "        if (delta_v_norm < tol) and (delta_u_norm < tol):\n",
    "            break\n",
    "    \n",
    "    if (delta_v_norm >= tol) or (delta_u_norm >= tol):\n",
    "        print(\"Failed to converge in {} iterations. Try increasing tolerance, or increasing the maximum number of iterations.\".format(iter_num))\n",
    "    \n",
    "    return u, v, (u.T @ X @ v)[0][0]"
   ]
  },
  {
   "cell_type": "code",
   "execution_count": 26,
   "metadata": {},
   "outputs": [],
   "source": [
    "@jit(nopython=True)\n",
    "def BIC_v(lambda_v, v_hat, w2, u, sigma_sq_hat, nd, X):\n",
    "    v = np.abs(v_hat) - lambda_v*w2/2\n",
    "    df = np.sum(v > 0)\n",
    "    \n",
    "    vcopy = v.ravel()\n",
    "    \n",
    "    for i in range(vcopy.shape[0]):\n",
    "        if vcopy[i] <= 0:\n",
    "            vcopy[i] = 0\n",
    "    v = vcopy.reshape(v.shape)\n",
    "    \n",
    "    v *= np.sign(v_hat)\n",
    "    return (np.linalg.norm(X - u @ v.T)**2/sigma_sq_hat + np.log(nd)*df, v)\n",
    "\n",
    "@jit(nopython=True)\n",
    "def BIC_u(lambda_u, u_hat, w1, v, sigma_sq_hat, nd, X):\n",
    "    u = np.abs(u_hat) - lambda_u*w1/2\n",
    "    df = np.sum(u > 0)\n",
    "    \n",
    "    ucopy = u.ravel()\n",
    "    for i in range(ucopy.shape[0]):\n",
    "        if ucopy[i] <= 0:\n",
    "            ucopy[i] = 0\n",
    "    u = ucopy.reshape(u.shape)\n",
    "\n",
    "    u *= np.sign(u_hat)\n",
    "    return (np.linalg.norm(X - u @ v.T)**2/sigma_sq_hat + np.log(nd)*df, u)\n",
    "\n",
    "@jit(nopython=True)\n",
    "def ssvd_new(X, BIC_v = BIC_v, BIC_u = BIC_u, tol = 1e-3, lambda_us = None, lambda_vs = None, gamma1s=None, gamma2s=None, max_iter = 20):\n",
    "    \n",
    "    if gamma1s is None:\n",
    "        gamma1s = [2]\n",
    "    \n",
    "    if gamma2s is None:\n",
    "        gamma2s = [2]\n",
    "    \n",
    "    U, S, V = np.linalg.svd(X, full_matrices = False)\n",
    "    u = U[:,0].copy()\n",
    "    u = u.reshape((u.shape[0],1))\n",
    "    v = V[0,:].copy()\n",
    "    v = v.reshape((v.shape[0],1))\n",
    "    s = S[0]\n",
    "    n, d = X.shape\n",
    "    nd = n*d\n",
    "    iter_num = 0\n",
    "    is_lambda_us_given = lambda_us is not None\n",
    "    is_lambda_vs_given = lambda_vs is not None\n",
    "   \n",
    "    while iter_num < max_iter:\n",
    "        \n",
    "        # Update v\n",
    "        v_hat = X.T @ u\n",
    "    \n",
    "        if not v_hat.any():\n",
    "            v_new = v_hat\n",
    "            \n",
    "        else:\n",
    "            sigma_sq_hat = np.linalg.norm(X - u @ v_hat.T)**2/(nd-d)\n",
    "            min_BIC_val = 1e8 \n",
    "            for gamma2 in gamma2s:\n",
    "                w2 = np.abs(v_hat)**-gamma2\n",
    "                if not is_lambda_vs_given:\n",
    "                    lambda_vs = np.abs(v_hat)*2/w2\n",
    "  \n",
    "                BIC_vals_lst=[0.]*lambda_vs.shape[0]\n",
    "                v_vals=[np.zeros((lambda_vs.shape[0],1))]*lambda_vs.shape[0]\n",
    "                for i in range(lambda_vs.shape[0]):\n",
    "                    bic_val, v_val = BIC_v(lambda_v=lambda_vs[i,0], v_hat=v_hat, w2=w2, u=u, sigma_sq_hat=sigma_sq_hat, nd=nd, X=X)\n",
    "                    BIC_vals_lst[i] = bic_val\n",
    "                    v_vals[i] = v_val\n",
    "                \n",
    "                BIC_vals = np.array(BIC_vals_lst)\n",
    "                if np.min(BIC_vals) < min_BIC_val:\n",
    "                    min_BIC_val = np.min(BIC_vals)\n",
    "                    v_new = v_vals[np.argmin(BIC_vals)]\n",
    "                    \n",
    "                    if v_new.any():\n",
    "                        v_new = v_new/np.linalg.norm(v_new)\n",
    "        delta_v_norm = np.linalg.norm(v_new - v)\n",
    "        v = v_new\n",
    "        \n",
    "        # Update u\n",
    "        u_hat = X @ v\n",
    "        \n",
    "        if not u_hat.any():\n",
    "            u_new = u_hat\n",
    "        else:\n",
    "            sigma_sq_hat = np.linalg.norm(X - u_hat @ v.T)**2/(nd-n)\n",
    "            min_BIC_val = 1e8 \n",
    "            for gamma1 in gamma1s:\n",
    "                w1 = np.abs(u_hat)**-gamma1\n",
    "                if not is_lambda_us_given:\n",
    "                    lambda_us = np.abs(u_hat)*2/w1\n",
    "            \n",
    "                BIC_vals_lst=[0.]*lambda_us.shape[0]\n",
    "                u_vals=[np.zeros((lambda_us.shape[0],1))]*lambda_us.shape[0]\n",
    "                for i in range(lambda_us.shape[0]):\n",
    "                    bic_val, u_val = BIC_u(lambda_u = lambda_us[i,0], u_hat=u_hat, w1=w1, v=v, sigma_sq_hat=sigma_sq_hat, nd=nd, X=X)\n",
    "                    BIC_vals_lst[i] = bic_val\n",
    "                    u_vals[i] = u_val\n",
    "                    \n",
    "                BIC_vals = np.array(BIC_vals_lst)\n",
    "                if np.min(BIC_vals) < min_BIC_val:\n",
    "                    min_BIC_val = np.min(BIC_vals)\n",
    "                    u_new = u_vals[np.argmin(BIC_vals)]\n",
    "                  \n",
    "                    if u_new.any():\n",
    "                        u_new = u_new/np.linalg.norm(u_new)\n",
    "        delta_u_norm = np.linalg.norm(u_new - u)\n",
    "        u = u_new\n",
    "        \n",
    "        iter_num += 1\n",
    "    \n",
    "        if (delta_v_norm < tol) and (delta_u_norm < tol):\n",
    "            break\n",
    "    \n",
    "    if (delta_v_norm >= tol) or (delta_u_norm >= tol):\n",
    "        \n",
    "        print(\"Failed to converge in\", iter_num, \"iterations. Try increasing tolerance, or increasing the maximum number of iterations.\")\n",
    "    \n",
    "    return u, v, (u.T @ X @ v)[0][0]"
   ]
  },
  {
   "cell_type": "markdown",
   "metadata": {},
   "source": [
    "# Simulation 1 - Rank 1 Approximation"
   ]
  },
  {
   "cell_type": "code",
   "execution_count": 27,
   "metadata": {},
   "outputs": [],
   "source": [
    "u_tilde = np.concatenate((np.arange(10,2,-1), 2*np.ones(17), np.zeros(75)))[:,None]\n",
    "u_true = u_tilde/np.linalg.norm(u_tilde)\n",
    "v_tilde = np.concatenate((np.array([10, -10, 8, -8, 5, -5]), 3*np.ones(5), -3*np.ones(5), np.zeros(34)))[:,None]\n",
    "v_true = v_tilde/np.linalg.norm(v_tilde)\n",
    "X_star = 50*u_true*v_true.T\n",
    "n, d = X_star.shape\n",
    "np.random.seed(0)\n",
    "nsims = 100\n",
    "sims = np.empty((nsims, n, d))\n",
    "for i in range(nsims):\n",
    "    sims[i] = X_star + np.random.randn(n, d)"
   ]
  },
  {
   "cell_type": "code",
   "execution_count": 28,
   "metadata": {},
   "outputs": [],
   "source": [
    "u_true_labels = u_true == 0\n",
    "v_true_labels = v_true == 0"
   ]
  },
  {
   "cell_type": "markdown",
   "metadata": {},
   "source": [
    "## Optimization"
   ]
  },
  {
   "cell_type": "code",
   "execution_count": 29,
   "metadata": {},
   "outputs": [],
   "source": [
    "ssvd_u_preds_original, ssvd_v_preds_original, ssvd_s_values_original = list(zip(*list(map(ssvd_original, sims))))"
   ]
  },
  {
   "cell_type": "code",
   "execution_count": 30,
   "metadata": {},
   "outputs": [
    {
     "name": "stdout",
     "output_type": "stream",
     "text": [
      "SSVD Misclassification rate for u is 1.30%\n",
      "SSVD Misclassification rate for v is 0.30%\n"
     ]
    }
   ],
   "source": [
    "print(\"SSVD Misclassification rate for u is {0:.2f}%\".format(np.mean(list(map(lambda x : np.mean((x == 0) != u_true_labels), ssvd_u_preds_original)))*100))\n",
    "print(\"SSVD Misclassification rate for v is {0:.2f}%\".format(np.mean(list(map(lambda x : np.mean((x == 0) != v_true_labels), ssvd_v_preds_original)))*100))"
   ]
  },
  {
   "cell_type": "code",
   "execution_count": 31,
   "metadata": {},
   "outputs": [],
   "source": [
    "ssvd_u_preds_sparsesvd, ssvd_v_preds_sparsesvd, ssvd_s_values_sparsesvd = list(zip(*list(map(lambda x : ssvd_original(x, sparse_decomp = True), sims))))"
   ]
  },
  {
   "cell_type": "code",
   "execution_count": 32,
   "metadata": {},
   "outputs": [
    {
     "name": "stdout",
     "output_type": "stream",
     "text": [
      "SSVD Misclassification rate for u is 1.27%\n",
      "SSVD Misclassification rate for v is 0.28%\n"
     ]
    }
   ],
   "source": [
    "print(\"SSVD Misclassification rate for u is {0:.2f}%\".format(np.mean(list(map(lambda x : np.mean((x == 0) != u_true_labels), ssvd_u_preds_sparsesvd)))*100))\n",
    "print(\"SSVD Misclassification rate for v is {0:.2f}%\".format(np.mean(list(map(lambda x : np.mean((x == 0) != v_true_labels), ssvd_v_preds_sparsesvd)))*100))"
   ]
  },
  {
   "cell_type": "code",
   "execution_count": 33,
   "metadata": {},
   "outputs": [],
   "source": [
    "ssvd_u_preds, ssvd_v_preds, ssvd_s_values = list(zip(*list(map(ssvd_new, sims))))"
   ]
  },
  {
   "cell_type": "code",
   "execution_count": 34,
   "metadata": {},
   "outputs": [
    {
     "name": "stdout",
     "output_type": "stream",
     "text": [
      "SSVD Misclassification rate for u is 1.30%\n",
      "SSVD Misclassification rate for v is 0.28%\n"
     ]
    }
   ],
   "source": [
    "print(\"SSVD Misclassification rate for u is {0:.2f}%\".format(np.mean(list(map(lambda x : np.mean((x == 0) != u_true_labels), ssvd_u_preds)))*100))\n",
    "print(\"SSVD Misclassification rate for v is {0:.2f}%\".format(np.mean(list(map(lambda x : np.mean((x == 0) != v_true_labels), ssvd_v_preds)))*100))"
   ]
  },
  {
   "cell_type": "code",
   "execution_count": 35,
   "metadata": {},
   "outputs": [
    {
     "name": "stdout",
     "output_type": "stream",
     "text": [
      "True\n",
      "True\n",
      "False\n",
      "False\n",
      "False\n",
      "False\n"
     ]
    }
   ],
   "source": [
    "# Ensure that the signs of the singular vectors are the same, for comparison\n",
    "print(np.allclose(tuple(map(lambda x : -x if x[0] < 0 else x, ssvd_u_preds_original)), \n",
    "                  tuple(map(lambda x : -x if x[0] < 0 else x, ssvd_u_preds_sparsesvd)), atol = 1e-1))\n",
    "print(np.allclose(tuple(map(lambda x : -x if x[0] < 0 else x, ssvd_v_preds_original)), \n",
    "                  tuple(map(lambda x : -x if x[0] < 0 else x, ssvd_v_preds_sparsesvd)), atol = 1e-1))\n",
    "print(np.allclose(ssvd_s_values_original, ssvd_s_values_sparsesvd, atol = 1e-4))\n",
    "\n",
    "print(np.allclose(ssvd_u_preds_original, ssvd_u_preds, atol = 1e-4))\n",
    "print(np.allclose(ssvd_v_preds_original, ssvd_v_preds, atol = 1e-4))\n",
    "print(np.allclose(ssvd_s_values_original, ssvd_s_values, atol = 1e-4))"
   ]
  },
  {
   "cell_type": "code",
   "execution_count": 36,
   "metadata": {},
   "outputs": [
    {
     "name": "stdout",
     "output_type": "stream",
     "text": [
      "2.79 s ± 141 ms per loop (mean ± std. dev. of 7 runs, 1 loop each)\n"
     ]
    }
   ],
   "source": [
    "%%timeit\n",
    "ssvd_u_preds_original, ssvd_v_preds_original, ssvd_s_values_original = list(zip(*list(map(ssvd_original, sims))))"
   ]
  },
  {
   "cell_type": "code",
   "execution_count": 12,
   "metadata": {},
   "outputs": [
    {
     "name": "stdout",
     "output_type": "stream",
     "text": [
      "2.95 s ± 361 ms per loop (mean ± std. dev. of 7 runs, 1 loop each)\n"
     ]
    }
   ],
   "source": [
    "%%timeit\n",
    "ssvd_u_preds_sparsesvd, ssvd_v_preds_sparsesvd, ssvd_s_values_sparsesvd = list(zip(*list(map(lambda x : ssvd_original(x, sparse_decomp = True), sims))))"
   ]
  },
  {
   "cell_type": "code",
   "execution_count": 13,
   "metadata": {},
   "outputs": [
    {
     "name": "stdout",
     "output_type": "stream",
     "text": [
      "876 ms ± 138 ms per loop (mean ± std. dev. of 7 runs, 1 loop each)\n"
     ]
    }
   ],
   "source": [
    "%%timeit\n",
    "ssvd_u_preds, ssvd_v_preds, ssvd_s_values = list(zip(*list(map(ssvd_new, sims))))"
   ]
  },
  {
   "cell_type": "markdown",
   "metadata": {},
   "source": [
    "## Comparison with other algorithms"
   ]
  },
  {
   "cell_type": "markdown",
   "metadata": {},
   "source": [
    "### SVD"
   ]
  },
  {
   "cell_type": "code",
   "execution_count": 14,
   "metadata": {},
   "outputs": [],
   "source": [
    "svd_u_preds, svd_v_preds = list(zip(*list(map(lambda x : (x[0][:,0][:,None], x[2][0,:][:,None]), map(lambda x : np.linalg.svd(x, full_matrices = False), sims)))))"
   ]
  },
  {
   "cell_type": "code",
   "execution_count": 15,
   "metadata": {},
   "outputs": [
    {
     "name": "stdout",
     "output_type": "stream",
     "text": [
      "SVD Misclassification rate for u is 75.00%\n",
      "SVD Misclassification rate for v is 68.00%\n"
     ]
    }
   ],
   "source": [
    "print(\"SVD Misclassification rate for u is {0:.2f}%\".format(np.mean(list(map(lambda x : np.mean((x == 0) != u_true_labels), svd_u_preds)))*100))\n",
    "print(\"SVD Misclassification rate for v is {0:.2f}%\".format(np.mean(list(map(lambda x : np.mean((x == 0) != v_true_labels), svd_v_preds)))*100))"
   ]
  },
  {
   "cell_type": "markdown",
   "metadata": {},
   "source": [
    "### Spectral Clustering"
   ]
  },
  {
   "cell_type": "code",
   "execution_count": 16,
   "metadata": {},
   "outputs": [],
   "source": [
    "sc_u_preds, sc_v_preds = list(zip(*list(map(lambda x : (x.row_labels_, x.column_labels_), map(lambda x : SpectralBiclustering(n_clusters=2, random_state=0).fit(x), sims)))))"
   ]
  },
  {
   "cell_type": "code",
   "execution_count": 17,
   "metadata": {},
   "outputs": [
    {
     "name": "stdout",
     "output_type": "stream",
     "text": [
      "Spectral Clusting Misclassification rate for u is 47.11%\n",
      "Spectral Clusting Misclassification rate for v is 37.74%\n"
     ]
    }
   ],
   "source": [
    "sc_u_wrong = np.mean(list(map(lambda x : min(np.mean((x == 0) != u_true_labels), np.mean((x == 1) != u_true_labels)), sc_u_preds)))*100\n",
    "sc_v_wrong = np.mean(list(map(lambda x : min(np.mean((x == 0) != v_true_labels), np.mean((x == 1) != v_true_labels)), sc_v_preds)))*100\n",
    "print(\"Spectral Clusting Misclassification rate for u is {0:.2f}%\".format(sc_u_wrong))\n",
    "print(\"Spectral Clusting Misclassification rate for v is {0:.2f}%\".format(sc_v_wrong))"
   ]
  },
  {
   "cell_type": "markdown",
   "metadata": {},
   "source": [
    "# Simulation 2 - Higher Rank Approximation"
   ]
  },
  {
   "cell_type": "code",
   "execution_count": 18,
   "metadata": {},
   "outputs": [
    {
     "data": {
      "image/png": "[encoded data removed]",
      "text/plain": [
       "<Figure size 432x288 with 2 Axes>"
      ]
     },
     "metadata": {
      "needs_background": "light"
     },
     "output_type": "display_data"
    }
   ],
   "source": [
    "X_star = np.fromfunction(lambda i, j: np.where((25 <= j) & (j <= 74), (24**2 - (i+1-25)**2 - (j+1-50)**2)/100, 0), (50,100)) # like ternary\n",
    "X_star *= (np.abs(X_star) > 1)\n",
    "ax = sns.heatmap(X_star, vmin = -1, vmax = 1, cmap = 'bwr')\n",
    "ax.set_title(\"True Signal\");\n",
    "xticks = np.arange(10,110,10)\n",
    "ax.set_xticks(xticks)\n",
    "ax.set_xticklabels(xticks)\n",
    "yticks = np.arange(10,60,10)\n",
    "ax.set_yticks(yticks)\n",
    "ax.set_yticklabels(yticks);"
   ]
  },
  {
   "cell_type": "code",
   "execution_count": 19,
   "metadata": {},
   "outputs": [],
   "source": [
    "nsims = 100\n",
    "n, d = X_star.shape\n",
    "sims = np.empty((nsims, n, d))\n",
    "for i in range(nsims):\n",
    "    sims[i] = X_star + np.random.randn(n, d)"
   ]
  },
  {
   "cell_type": "markdown",
   "metadata": {},
   "source": [
    "## Comparison with other algorithms"
   ]
  },
  {
   "cell_type": "code",
   "execution_count": 20,
   "metadata": {},
   "outputs": [],
   "source": [
    "sims_copy = copy.deepcopy(sims)\n",
    "layers = 8\n",
    "ssvd_estimates = np.empty((layers, nsims, n, d))\n",
    "for i in range(layers):\n",
    "    # Failure of convergence is expected at high number of layers, given that most information is already extracted by then.\n",
    "    ssvd_predictions = np.array(list(map(lambda x : x[2] * x[0] @ x[1].T, map(lambda x : ssvd_new(x, tol = 1e-3, max_iter = 40), sims_copy))))\n",
    "    ssvd_estimates[i] = ssvd_predictions\n",
    "    sims_copy -= ssvd_predictions"
   ]
  },
  {
   "cell_type": "code",
   "execution_count": 21,
   "metadata": {},
   "outputs": [],
   "source": [
    "svd_decomps = list(map(lambda x : np.linalg.svd(x, full_matrices = False), sims_copy))\n",
    "svd_estimates = np.empty((layers, nsims, n, d))\n",
    "for i in range(layers):\n",
    "    svd_estimates[i] = np.array(list(map(lambda x : x[1][i] * x[0][:,i][:,None] @ x[2][i,:][None,:],svd_decomps)))"
   ]
  },
  {
   "cell_type": "code",
   "execution_count": 22,
   "metadata": {},
   "outputs": [],
   "source": [
    "for i in range(1, layers):\n",
    "    ssvd_estimates[i] += ssvd_estimates[i-1]\n",
    "    svd_estimates[i] += svd_estimates[i-1]"
   ]
  },
  {
   "cell_type": "code",
   "execution_count": 23,
   "metadata": {},
   "outputs": [],
   "source": [
    "ssvd_classification = []\n",
    "svd_classification = []\n",
    "X_star_labels = X_star == 0\n",
    "for i in range(layers):\n",
    "    ssvd_classification.append(np.mean(list((map(lambda x : np.mean((x == 0) == X_star_labels), ssvd_estimates[i])))))\n",
    "    svd_classification.append(np.mean(list((map(lambda x : np.mean((x == 0) == X_star_labels), svd_estimates[i])))))"
   ]
  },
  {
   "cell_type": "code",
   "execution_count": 24,
   "metadata": {},
   "outputs": [],
   "source": [
    "max_equal = lambda x : max(np.mean(x == (X_star == 0)), np.mean(x == (X_star != 0)))\n",
    "sc_classification = list(map(lambda num_layers : \n",
    "                             np.mean(list(map(lambda x : max(max_equal(x.row_labels_[:, None] @ x.column_labels_[None, :]),\n",
    "                                                             max_equal((x.row_labels_[:, None] == 0) @ x.column_labels_[None, :]), \n",
    "                                                             max_equal(x.row_labels_[:, None] @ (x.column_labels_[None, :] == 0)), \n",
    "                                                             max_equal((x.row_labels_[:, None] == 0) @ (x.column_labels_[None, :] == 0))), \n",
    "                                              map(lambda x : SpectralBiclustering(n_clusters=2, random_state=0, n_components = num_layers, n_best = min(3, num_layers)).fit(x), sims)))), np.arange(1,9)))"
   ]
  },
  {
   "cell_type": "code",
   "execution_count": 25,
   "metadata": {},
   "outputs": [
    {
     "data": {
      "image/png": "[encoded data removed]",
      "text/plain": [
       "<Figure size 432x288 with 1 Axes>"
      ]
     },
     "metadata": {
      "needs_background": "light"
     },
     "output_type": "display_data"
    }
   ],
   "source": [
    "plt.plot(np.arange(1,9), ssvd_classification, label = \"SSVD\", color = \"red\")\n",
    "plt.plot(np.arange(1,9), svd_classification, label = \"SVD\", color = \"blue\", linestyle = \"dashed\")\n",
    "plt.plot(np.arange(1,9), sc_classification, label = \"SB\", color = \"green\", linestyle = \"dashed\")\n",
    "plt.xlabel(\"Number of Layers\")\n",
    "plt.ylim([0.3, 1])\n",
    "plt.xlim([1, 8])\n",
    "plt.title(\"Correctly classified entries\")\n",
    "plt.legend();"
   ]
  },
  {
   "cell_type": "markdown",
   "metadata": {},
   "source": [
    "# Real Dataset 1 - Lung Cancer Data (In Paper)"
   ]
  },
  {
   "cell_type": "markdown",
   "metadata": {},
   "source": [
    "## Optimization"
   ]
  },
  {
   "cell_type": "markdown",
   "metadata": {},
   "source": [
    "Since this takes a long time, we only time how long it takes to extract the first SSVD layer."
   ]
  },
  {
   "cell_type": "code",
   "execution_count": 165,
   "metadata": {},
   "outputs": [],
   "source": [
    "X_lung = np.loadtxt('lungcancerdata.txt', delimiter = ' ').T"
   ]
  },
  {
   "cell_type": "code",
   "execution_count": 166,
   "metadata": {},
   "outputs": [
    {
     "ename": "KeyboardInterrupt",
     "evalue": "",
     "output_type": "error",
     "traceback": [
      "\u001b[0;31m---------------------------------------------------------------------------\u001b[0m",
      "\u001b[0;31mKeyboardInterrupt\u001b[0m                         Traceback (most recent call last)",
      "\u001b[0;32m<timed exec>\u001b[0m in \u001b[0;36m<module>\u001b[0;34m\u001b[0m\n",
      "\u001b[0;32m~/opt/anaconda3/lib/python3.7/site-packages/SSVD_pkg/algorithms.py\u001b[0m in \u001b[0;36mssvd_original\u001b[0;34m(X, tol, lambda_us, lambda_vs, gamma1s, gamma2s, max_iter, sparse_decomp)\u001b[0m\n\u001b[1;32m     50\u001b[0m                 \u001b[0;32mif\u001b[0m \u001b[0;32mnot\u001b[0m \u001b[0mis_lambda_vs_given\u001b[0m\u001b[0;34m:\u001b[0m\u001b[0;34m\u001b[0m\u001b[0;34m\u001b[0m\u001b[0m\n\u001b[1;32m     51\u001b[0m                     \u001b[0mlambda_vs\u001b[0m \u001b[0;34m=\u001b[0m \u001b[0mabs\u001b[0m\u001b[0;34m(\u001b[0m\u001b[0mv_hat\u001b[0m\u001b[0;34m)\u001b[0m\u001b[0;34m*\u001b[0m\u001b[0;36m2\u001b[0m\u001b[0;34m/\u001b[0m\u001b[0mw2\u001b[0m\u001b[0;34m\u001b[0m\u001b[0;34m\u001b[0m\u001b[0m\n\u001b[0;32m---> 52\u001b[0;31m                 \u001b[0mBIC_vals\u001b[0m\u001b[0;34m,\u001b[0m \u001b[0mv_vals\u001b[0m \u001b[0;34m=\u001b[0m \u001b[0mlist\u001b[0m\u001b[0;34m(\u001b[0m\u001b[0mzip\u001b[0m\u001b[0;34m(\u001b[0m\u001b[0;34m*\u001b[0m\u001b[0mlist\u001b[0m\u001b[0;34m(\u001b[0m\u001b[0mmap\u001b[0m\u001b[0;34m(\u001b[0m\u001b[0mBIC_v\u001b[0m\u001b[0;34m,\u001b[0m \u001b[0mlambda_vs\u001b[0m\u001b[0;34m)\u001b[0m\u001b[0;34m)\u001b[0m\u001b[0;34m)\u001b[0m\u001b[0;34m)\u001b[0m\u001b[0;34m\u001b[0m\u001b[0;34m\u001b[0m\u001b[0m\n\u001b[0m\u001b[1;32m     53\u001b[0m                 \u001b[0;32mif\u001b[0m \u001b[0mnp\u001b[0m\u001b[0;34m.\u001b[0m\u001b[0mmin\u001b[0m\u001b[0;34m(\u001b[0m\u001b[0mBIC_vals\u001b[0m\u001b[0;34m)\u001b[0m \u001b[0;34m<\u001b[0m \u001b[0mmin_BIC_val\u001b[0m\u001b[0;34m:\u001b[0m\u001b[0;34m\u001b[0m\u001b[0;34m\u001b[0m\u001b[0m\n\u001b[1;32m     54\u001b[0m                     \u001b[0mmin_BIC_val\u001b[0m \u001b[0;34m=\u001b[0m \u001b[0mnp\u001b[0m\u001b[0;34m.\u001b[0m\u001b[0mmin\u001b[0m\u001b[0;34m(\u001b[0m\u001b[0mBIC_vals\u001b[0m\u001b[0;34m)\u001b[0m\u001b[0;34m\u001b[0m\u001b[0;34m\u001b[0m\u001b[0m\n",
      "\u001b[0;32m~/opt/anaconda3/lib/python3.7/site-packages/SSVD_pkg/algorithms.py\u001b[0m in \u001b[0;36mBIC_v\u001b[0;34m(lambda_v)\u001b[0m\n\u001b[1;32m     12\u001b[0m         \u001b[0mv\u001b[0m\u001b[0;34m[\u001b[0m\u001b[0mv\u001b[0m \u001b[0;34m<=\u001b[0m \u001b[0;36m0\u001b[0m\u001b[0;34m]\u001b[0m \u001b[0;34m=\u001b[0m \u001b[0;36m0\u001b[0m\u001b[0;34m\u001b[0m\u001b[0;34m\u001b[0m\u001b[0m\n\u001b[1;32m     13\u001b[0m         \u001b[0mv\u001b[0m \u001b[0;34m*=\u001b[0m \u001b[0mnp\u001b[0m\u001b[0;34m.\u001b[0m\u001b[0msign\u001b[0m\u001b[0;34m(\u001b[0m\u001b[0mv_hat\u001b[0m\u001b[0;34m)\u001b[0m\u001b[0;34m\u001b[0m\u001b[0;34m\u001b[0m\u001b[0m\n\u001b[0;32m---> 14\u001b[0;31m         \u001b[0;32mreturn\u001b[0m \u001b[0;34m(\u001b[0m\u001b[0mnp\u001b[0m\u001b[0;34m.\u001b[0m\u001b[0mlinalg\u001b[0m\u001b[0;34m.\u001b[0m\u001b[0mnorm\u001b[0m\u001b[0;34m(\u001b[0m\u001b[0mX\u001b[0m \u001b[0;34m-\u001b[0m \u001b[0mu\u001b[0m \u001b[0;34m@\u001b[0m \u001b[0mv\u001b[0m\u001b[0;34m.\u001b[0m\u001b[0mT\u001b[0m\u001b[0;34m)\u001b[0m\u001b[0;34m**\u001b[0m\u001b[0;36m2\u001b[0m\u001b[0;34m/\u001b[0m\u001b[0msigma_sq_hat\u001b[0m \u001b[0;34m+\u001b[0m \u001b[0mnp\u001b[0m\u001b[0;34m.\u001b[0m\u001b[0mlog\u001b[0m\u001b[0;34m(\u001b[0m\u001b[0mnd\u001b[0m\u001b[0;34m)\u001b[0m\u001b[0;34m*\u001b[0m\u001b[0mdf\u001b[0m\u001b[0;34m,\u001b[0m \u001b[0mv\u001b[0m\u001b[0;34m)\u001b[0m\u001b[0;34m\u001b[0m\u001b[0;34m\u001b[0m\u001b[0m\n\u001b[0m\u001b[1;32m     15\u001b[0m \u001b[0;34m\u001b[0m\u001b[0m\n\u001b[1;32m     16\u001b[0m     \u001b[0;32mdef\u001b[0m \u001b[0mBIC_u\u001b[0m\u001b[0;34m(\u001b[0m\u001b[0mlambda_u\u001b[0m\u001b[0;34m)\u001b[0m\u001b[0;34m:\u001b[0m\u001b[0;34m\u001b[0m\u001b[0;34m\u001b[0m\u001b[0m\n",
      "\u001b[0;31mKeyboardInterrupt\u001b[0m: "
     ]
    }
   ],
   "source": [
    "%%time\n",
    "u1_original, v1_original, s1_original = ssvd_original(X_lung)"
   ]
  },
  {
   "cell_type": "code",
   "execution_count": 167,
   "metadata": {},
   "outputs": [
    {
     "ename": "KeyboardInterrupt",
     "evalue": "",
     "output_type": "error",
     "traceback": [
      "\u001b[0;31m---------------------------------------------------------------------------\u001b[0m",
      "\u001b[0;31mKeyboardInterrupt\u001b[0m                         Traceback (most recent call last)",
      "\u001b[0;32m<ipython-input-167-dfd2125ff19c>\u001b[0m in \u001b[0;36m<module>\u001b[0;34m\u001b[0m\n\u001b[0;32m----> 1\u001b[0;31m \u001b[0mX_lung\u001b[0m \u001b[0;34m=\u001b[0m \u001b[0mnp\u001b[0m\u001b[0;34m.\u001b[0m\u001b[0mloadtxt\u001b[0m\u001b[0;34m(\u001b[0m\u001b[0;34m'lungcancerdata.txt'\u001b[0m\u001b[0;34m,\u001b[0m \u001b[0mdelimiter\u001b[0m \u001b[0;34m=\u001b[0m \u001b[0;34m' '\u001b[0m\u001b[0;34m)\u001b[0m\u001b[0;34m.\u001b[0m\u001b[0mT\u001b[0m\u001b[0;34m\u001b[0m\u001b[0;34m\u001b[0m\u001b[0m\n\u001b[0m",
      "\u001b[0;32m~/opt/anaconda3/lib/python3.7/site-packages/numpy/lib/npyio.py\u001b[0m in \u001b[0;36mloadtxt\u001b[0;34m(fname, dtype, comments, delimiter, converters, skiprows, usecols, unpack, ndmin, encoding, max_rows)\u001b[0m\n\u001b[1;32m   1137\u001b[0m         \u001b[0;31m# converting the data\u001b[0m\u001b[0;34m\u001b[0m\u001b[0;34m\u001b[0m\u001b[0;34m\u001b[0m\u001b[0m\n\u001b[1;32m   1138\u001b[0m         \u001b[0mX\u001b[0m \u001b[0;34m=\u001b[0m \u001b[0;32mNone\u001b[0m\u001b[0;34m\u001b[0m\u001b[0;34m\u001b[0m\u001b[0m\n\u001b[0;32m-> 1139\u001b[0;31m         \u001b[0;32mfor\u001b[0m \u001b[0mx\u001b[0m \u001b[0;32min\u001b[0m \u001b[0mread_data\u001b[0m\u001b[0;34m(\u001b[0m\u001b[0m_loadtxt_chunksize\u001b[0m\u001b[0;34m)\u001b[0m\u001b[0;34m:\u001b[0m\u001b[0;34m\u001b[0m\u001b[0;34m\u001b[0m\u001b[0m\n\u001b[0m\u001b[1;32m   1140\u001b[0m             \u001b[0;32mif\u001b[0m \u001b[0mX\u001b[0m \u001b[0;32mis\u001b[0m \u001b[0;32mNone\u001b[0m\u001b[0;34m:\u001b[0m\u001b[0;34m\u001b[0m\u001b[0;34m\u001b[0m\u001b[0m\n\u001b[1;32m   1141\u001b[0m                 \u001b[0mX\u001b[0m \u001b[0;34m=\u001b[0m \u001b[0mnp\u001b[0m\u001b[0;34m.\u001b[0m\u001b[0marray\u001b[0m\u001b[0;34m(\u001b[0m\u001b[0mx\u001b[0m\u001b[0;34m,\u001b[0m \u001b[0mdtype\u001b[0m\u001b[0;34m)\u001b[0m\u001b[0;34m\u001b[0m\u001b[0;34m\u001b[0m\u001b[0m\n",
      "\u001b[0;32m~/opt/anaconda3/lib/python3.7/site-packages/numpy/lib/npyio.py\u001b[0m in \u001b[0;36mread_data\u001b[0;34m(chunk_size)\u001b[0m\n\u001b[1;32m   1065\u001b[0m \u001b[0;34m\u001b[0m\u001b[0m\n\u001b[1;32m   1066\u001b[0m             \u001b[0;31m# Convert each value according to its column and store\u001b[0m\u001b[0;34m\u001b[0m\u001b[0;34m\u001b[0m\u001b[0;34m\u001b[0m\u001b[0m\n\u001b[0;32m-> 1067\u001b[0;31m             \u001b[0mitems\u001b[0m \u001b[0;34m=\u001b[0m \u001b[0;34m[\u001b[0m\u001b[0mconv\u001b[0m\u001b[0;34m(\u001b[0m\u001b[0mval\u001b[0m\u001b[0;34m)\u001b[0m \u001b[0;32mfor\u001b[0m \u001b[0;34m(\u001b[0m\u001b[0mconv\u001b[0m\u001b[0;34m,\u001b[0m \u001b[0mval\u001b[0m\u001b[0;34m)\u001b[0m \u001b[0;32min\u001b[0m \u001b[0mzip\u001b[0m\u001b[0;34m(\u001b[0m\u001b[0mconverters\u001b[0m\u001b[0;34m,\u001b[0m \u001b[0mvals\u001b[0m\u001b[0;34m)\u001b[0m\u001b[0;34m]\u001b[0m\u001b[0;34m\u001b[0m\u001b[0;34m\u001b[0m\u001b[0m\n\u001b[0m\u001b[1;32m   1068\u001b[0m \u001b[0;34m\u001b[0m\u001b[0m\n\u001b[1;32m   1069\u001b[0m             \u001b[0;31m# Then pack it according to the dtype's nesting\u001b[0m\u001b[0;34m\u001b[0m\u001b[0;34m\u001b[0m\u001b[0;34m\u001b[0m\u001b[0m\n",
      "\u001b[0;32m~/opt/anaconda3/lib/python3.7/site-packages/numpy/lib/npyio.py\u001b[0m in \u001b[0;36m<listcomp>\u001b[0;34m(.0)\u001b[0m\n\u001b[1;32m   1065\u001b[0m \u001b[0;34m\u001b[0m\u001b[0m\n\u001b[1;32m   1066\u001b[0m             \u001b[0;31m# Convert each value according to its column and store\u001b[0m\u001b[0;34m\u001b[0m\u001b[0;34m\u001b[0m\u001b[0;34m\u001b[0m\u001b[0m\n\u001b[0;32m-> 1067\u001b[0;31m             \u001b[0mitems\u001b[0m \u001b[0;34m=\u001b[0m \u001b[0;34m[\u001b[0m\u001b[0mconv\u001b[0m\u001b[0;34m(\u001b[0m\u001b[0mval\u001b[0m\u001b[0;34m)\u001b[0m \u001b[0;32mfor\u001b[0m \u001b[0;34m(\u001b[0m\u001b[0mconv\u001b[0m\u001b[0;34m,\u001b[0m \u001b[0mval\u001b[0m\u001b[0;34m)\u001b[0m \u001b[0;32min\u001b[0m \u001b[0mzip\u001b[0m\u001b[0;34m(\u001b[0m\u001b[0mconverters\u001b[0m\u001b[0;34m,\u001b[0m \u001b[0mvals\u001b[0m\u001b[0;34m)\u001b[0m\u001b[0;34m]\u001b[0m\u001b[0;34m\u001b[0m\u001b[0;34m\u001b[0m\u001b[0m\n\u001b[0m\u001b[1;32m   1068\u001b[0m \u001b[0;34m\u001b[0m\u001b[0m\n\u001b[1;32m   1069\u001b[0m             \u001b[0;31m# Then pack it according to the dtype's nesting\u001b[0m\u001b[0;34m\u001b[0m\u001b[0;34m\u001b[0m\u001b[0;34m\u001b[0m\u001b[0m\n",
      "\u001b[0;32m~/opt/anaconda3/lib/python3.7/site-packages/numpy/lib/npyio.py\u001b[0m in \u001b[0;36mfloatconv\u001b[0;34m(x)\u001b[0m\n\u001b[1;32m    758\u001b[0m \u001b[0;34m\u001b[0m\u001b[0m\n\u001b[1;32m    759\u001b[0m     \u001b[0;32mdef\u001b[0m \u001b[0mfloatconv\u001b[0m\u001b[0;34m(\u001b[0m\u001b[0mx\u001b[0m\u001b[0;34m)\u001b[0m\u001b[0;34m:\u001b[0m\u001b[0;34m\u001b[0m\u001b[0;34m\u001b[0m\u001b[0m\n\u001b[0;32m--> 760\u001b[0;31m         \u001b[0mx\u001b[0m\u001b[0;34m.\u001b[0m\u001b[0mlower\u001b[0m\u001b[0;34m(\u001b[0m\u001b[0;34m)\u001b[0m\u001b[0;34m\u001b[0m\u001b[0;34m\u001b[0m\u001b[0m\n\u001b[0m\u001b[1;32m    761\u001b[0m         \u001b[0;32mif\u001b[0m \u001b[0;34m'0x'\u001b[0m \u001b[0;32min\u001b[0m \u001b[0mx\u001b[0m\u001b[0;34m:\u001b[0m\u001b[0;34m\u001b[0m\u001b[0;34m\u001b[0m\u001b[0m\n\u001b[1;32m    762\u001b[0m             \u001b[0;32mreturn\u001b[0m \u001b[0mfloat\u001b[0m\u001b[0;34m.\u001b[0m\u001b[0mfromhex\u001b[0m\u001b[0;34m(\u001b[0m\u001b[0mx\u001b[0m\u001b[0;34m)\u001b[0m\u001b[0;34m\u001b[0m\u001b[0;34m\u001b[0m\u001b[0m\n",
      "\u001b[0;31mKeyboardInterrupt\u001b[0m: "
     ]
    }
   ],
   "source": [
    "X_lung = np.loadtxt('lungcancerdata.txt', delimiter = ' ').T"
   ]
  },
  {
   "cell_type": "code",
   "execution_count": null,
   "metadata": {},
   "outputs": [],
   "source": [
    "%%time\n",
    "u1_sparsesvd, v1_sparsesvd, s1_sparsesvd = ssvd_original(X_lung, sparse_decomp = True)"
   ]
  },
  {
   "cell_type": "code",
   "execution_count": null,
   "metadata": {},
   "outputs": [],
   "source": [
    "X_lung = np.loadtxt('lungcancerdata.txt', delimiter = ' ').T"
   ]
  },
  {
   "cell_type": "code",
   "execution_count": null,
   "metadata": {},
   "outputs": [],
   "source": [
    "%%time\n",
    "u1, v1, s1 = ssvd_new(X_lung)"
   ]
  },
  {
   "cell_type": "code",
   "execution_count": null,
   "metadata": {},
   "outputs": [],
   "source": [
    "print(np.allclose(np.r_[u1_original, v1_original, np.array([s1_original])[:, None]], \n",
    "                  np.r_[u1, v1, np.array([s1])[:, None]], atol = 1e-5))\n",
    "\n",
    "print(np.allclose(np.r_[u1_sparsesvd, v1_sparsesvd, np.array([s1_sparsesvd])[:, None]], \n",
    "                  np.r_[u1, v1, np.array([s1])[:, None]], atol = 1e-5))"
   ]
  },
  {
   "cell_type": "code",
   "execution_count": null,
   "metadata": {},
   "outputs": [],
   "source": [
    "X_lung -= s1*(u1 @ v1.T)\n",
    "u2, v2, s2 = ssvd_new(X_lung)\n",
    "X_lung -= s2*(u2 @ v2.T)\n",
    "u3, v3, s3 = ssvd_original(X_lung)"
   ]
  },
  {
   "cell_type": "code",
   "execution_count": 35,
   "metadata": {},
   "outputs": [
    {
     "data": {
      "image/png": "[encoded data removed]",
      "text/plain": [
       "<Figure size 720x720 with 4 Axes>"
      ]
     },
     "metadata": {
      "needs_background": "light"
     },
     "output_type": "display_data"
    }
   ],
   "source": [
    "group_indices = [np.arange(20), np.arange(20,33), np.arange(33,50), np.arange(50,56)]\n",
    "markers = [\"o\", \"s\", \"X\", \"d\"]\n",
    "labels = [\"Carcinoid\", \"Colon\", \"Normal\", \"SmallCell\"]\n",
    "fig, axs = plt.subplots(2, 2, figsize=(10, 10))\n",
    "for row in axs:\n",
    "    for ax in row:\n",
    "        ax.set_xlim([-0.4, 0.4])\n",
    "        ax.set_ylim([-0.4, 0.4])\n",
    "for i in range(len(group_indices)):\n",
    "    group = group_indices[i]\n",
    "    axs[0,0].scatter(u1[group], u2[group], marker = markers[i])\n",
    "    axs[1,0].scatter(u1[group], u3[group], marker = markers[i])\n",
    "    axs[1,1].scatter(u2[group], u3[group], marker = markers[i])\n",
    "    axs[0,1].scatter(0, 0, marker = markers[i], label = labels[i])\n",
    "axs[0,1].legend(loc = 10, fontsize=27).get_frame().set_edgecolor('black')\n",
    "axs[0,0].set_xlabel(\"u1\")\n",
    "axs[1,0].set_xlabel(\"u1\")\n",
    "axs[1,1].set_xlabel(\"u2\")\n",
    "axs[0,0].set_ylabel(\"u2\")\n",
    "axs[1,0].set_ylabel(\"u3\")\n",
    "axs[1,1].set_ylabel(\"u3\")\n",
    "axs[0,1].set_yticks(()) \n",
    "axs[0,1].set_xticks(());"
   ]
  },
  {
   "cell_type": "code",
   "execution_count": 36,
   "metadata": {},
   "outputs": [],
   "source": [
    "def get_X_for_plotting(u, v, s):\n",
    "    group_indices = [np.arange(20), np.arange(20,33), np.arange(33,50), np.arange(50,56)]\n",
    "    for group in group_indices:\n",
    "        u[group] = np.sort(u[group], axis = 0)\n",
    "\n",
    "    v_nonzero = v[np.argsort(np.abs(v), axis = 0)[8000:].flatten()]\n",
    "    v = np.sort(v_nonzero, axis = 0)\n",
    "    return s * u @ v.T"
   ]
  },
  {
   "cell_type": "code",
   "execution_count": 37,
   "metadata": {},
   "outputs": [],
   "source": [
    "X1 = get_X_for_plotting(u1, v1, s1)\n",
    "X2 = get_X_for_plotting(u2, v2, s2)\n",
    "X3 = get_X_for_plotting(u3, v3, s3)\n",
    "max_val = np.max(np.abs(np.c_[X1,X2,X3]))\n",
    "# rescale for increased contrast due to differing colormap\n",
    "rescale = 3\n",
    "X1 /= max_val/rescale\n",
    "X2 /= max_val/rescale\n",
    "X3 /= max_val/rescale"
   ]
  },
  {
   "cell_type": "code",
   "execution_count": 38,
   "metadata": {},
   "outputs": [],
   "source": [
    "def plot_lung(X, title, xticks, ax_given, cbar_ax, yticklabels):\n",
    "    ax = sns.heatmap(X, vmin = -1, vmax = 1, cmap = 'bwr', ax = ax_given, cbar_ax = cbar_ax)\n",
    "    ax.hlines([20, 33, 50], *ax.get_xlim(), linestyle=':', color = 'sienna')\n",
    "    ax.vlines([xticks[0], xticks[1]-8000], *ax.get_xlim(), linestyle=':', color = 'sienna')\n",
    "    ax.set_xticks((xticks[0], xticks[1]-8000)) \n",
    "    ax.set_xticklabels((str(xticks[0]), str(xticks[1])), rotation = 0)\n",
    "    ax.set_yticks((10, 27, 42, 53)) \n",
    "    ax.set_yticklabels(yticklabels) \n",
    "    ax.set_title(title)\n",
    "    ax.set_xlabel(\"Ordered gene index\");"
   ]
  },
  {
   "cell_type": "code",
   "execution_count": 39,
   "metadata": {},
   "outputs": [
    {
     "data": {
      "image/png": "[encoded data removed]",
      "text/plain": [
       "<Figure size 1152x288 with 4 Axes>"
      ]
     },
     "metadata": {
      "needs_background": "light"
     },
     "output_type": "display_data"
    }
   ],
   "source": [
    "fig, (ax1, ax2, ax3) = plt.subplots(ncols=3, figsize=(16, 4))\n",
    "cbar_ax = fig.add_axes([.92, .12, .02, 0.76])\n",
    "plot_lung(X1, \"1st Layer\", [1463, 10883], ax1, cbar_ax, (\"Carcinoid\", \"Colon\", \"Normal\", \"SmallCell\"))\n",
    "plot_lung(X2, \"2nd Layer\", [1489, 11603], ax2, cbar_ax, ())\n",
    "plot_lung(X3, \"3rd Layer\", [695, 12099], ax3, cbar_ax, ())"
   ]
  },
  {
   "cell_type": "markdown",
   "metadata": {},
   "source": [
    "# Real Dataset 2 - Company Financial Fraud Data (Not In Paper)"
   ]
  },
  {
   "cell_type": "code",
   "execution_count": 66,
   "metadata": {},
   "outputs": [],
   "source": [
    "X_com = np.loadtxt('companyfraud.txt')\n",
    "X_com = np.abs(np.cos(np.array(X_com*180)))"
   ]
  },
  {
   "cell_type": "code",
   "execution_count": 67,
   "metadata": {},
   "outputs": [
    {
     "name": "stdout",
     "output_type": "stream",
     "text": [
      "37.9 ms ± 359 µs per loop (mean ± std. dev. of 7 runs, 10 loops each)\n"
     ]
    }
   ],
   "source": [
    "%%timeit\n",
    "u1, v1, s1 = ssvd_original(X_com)\n",
    "X_com2 = X_com - s1*(u1 @ v1.T)\n",
    "u2, v2, s2 = ssvd_original(X_com2)\n",
    "X_com3 = X_com2 - s2*(u2 @ v2.T)\n",
    "u3, v3, s3 = ssvd_original(X_com)"
   ]
  },
  {
   "cell_type": "code",
   "execution_count": 68,
   "metadata": {},
   "outputs": [],
   "source": [
    "X_com = np.loadtxt('companyfraud.txt')\n",
    "X_com = np.abs(np.cos(np.array(X_com*180)))\n",
    "u1_original, v1_original, s1_original = ssvd_original(X_com)\n",
    "X_com2 = X_com - s1_original*(u1_original @ v1_original.T)\n",
    "u2_original, v2_original, s2_original = ssvd_original(X_com2)\n",
    "X_com3 = X_com2 - s2_original*(u2_original @ v2_original.T)\n",
    "u3_original, v3_original, s3_original = ssvd_original(X_com3)"
   ]
  },
  {
   "cell_type": "code",
   "execution_count": 69,
   "metadata": {},
   "outputs": [],
   "source": [
    "X_com = np.loadtxt('companyfraud.txt')\n",
    "X_com = np.abs(np.cos(np.array(X_com*180)))"
   ]
  },
  {
   "cell_type": "code",
   "execution_count": 70,
   "metadata": {},
   "outputs": [
    {
     "name": "stdout",
     "output_type": "stream",
     "text": [
      "38.6 ms ± 2.25 ms per loop (mean ± std. dev. of 7 runs, 10 loops each)\n"
     ]
    }
   ],
   "source": [
    "%%timeit\n",
    "u1, v1, s1 = ssvd_original(X_com, sparse_decomp = True)\n",
    "X_com2 = X_com - s1*(u1 @ v1.T)\n",
    "u2, v2, s2 = ssvd_original(X_com2, sparse_decomp = True)\n",
    "X_com3 = X_com2 - s2*(u2 @ v2.T)\n",
    "u3, v3, s3 = ssvd_original(X_com3, sparse_decomp = True)"
   ]
  },
  {
   "cell_type": "code",
   "execution_count": 71,
   "metadata": {},
   "outputs": [],
   "source": [
    "X_com = np.loadtxt('companyfraud.txt')\n",
    "X_com = np.abs(np.cos(np.array(X_com*180)))\n",
    "u1_sparsesvd, v1_sparsesvd, s1_sparsesvd = ssvd_original(X_com, sparse_decomp = True)\n",
    "X_com2 = X_com - s1_sparsesvd*(u1_sparsesvd @ v1_sparsesvd.T)\n",
    "u2_sparsesvd, v2_sparsesvd, s2_sparsesvd = ssvd_original(X_com2, sparse_decomp = True)\n",
    "X_com3 = X_com2 - s2_sparsesvd*(u2_sparsesvd @ v2_sparsesvd.T)\n",
    "u3_sparsesvd, v3_sparsesvd, s3_sparsesvd = ssvd_original(X_com3, sparse_decomp = True)"
   ]
  },
  {
   "cell_type": "code",
   "execution_count": 72,
   "metadata": {},
   "outputs": [],
   "source": [
    "X_com = np.loadtxt('companyfraud.txt')\n",
    "X_com = np.abs(np.cos(np.array(X_com*180)))"
   ]
  },
  {
   "cell_type": "code",
   "execution_count": 73,
   "metadata": {},
   "outputs": [
    {
     "name": "stdout",
     "output_type": "stream",
     "text": [
      "3.75 ms ± 115 µs per loop (mean ± std. dev. of 7 runs, 100 loops each)\n"
     ]
    }
   ],
   "source": [
    "%%timeit\n",
    "u1, v1, s1 = ssvd_new(X_com)\n",
    "X_com2 = X_com - s1*(u1 @ v1.T)\n",
    "u2, v2, s2 = ssvd_new(X_com2)\n",
    "X_com3 = X_com2 - s2*(u2 @ v2.T)\n",
    "u3, v3, s3 = ssvd_new(X_com3)"
   ]
  },
  {
   "cell_type": "code",
   "execution_count": 74,
   "metadata": {},
   "outputs": [],
   "source": [
    "X_com = np.loadtxt('companyfraud.txt')\n",
    "X_com = np.abs(np.cos(np.array(X_com*180)))\n",
    "u1, v1, s1 = ssvd_new(X_com)\n",
    "X_com2 = X_com - s1*(u1 @ v1.T)\n",
    "u2, v2, s2 = ssvd_new(X_com2)\n",
    "X_com3 = X_com2 - s2*(u2 @ v2.T)\n",
    "u3, v3, s3 = ssvd_new(X_com3)"
   ]
  },
  {
   "cell_type": "code",
   "execution_count": 80,
   "metadata": {},
   "outputs": [
    {
     "name": "stdout",
     "output_type": "stream",
     "text": [
      "False\n",
      "False\n",
      "True\n",
      "True\n",
      "False\n",
      "False\n"
     ]
    }
   ],
   "source": [
    "print(np.allclose(np.r_[u1_original, v1_original, np.array([s1_original])[:, None]], \n",
    "                  np.r_[u1, v1, np.array([s1])[:, None]], atol = 1e-5))\n",
    "print(np.allclose(np.r_[u2_original, v2_original, np.array([s2_original])[:, None]], \n",
    "                  np.r_[u2, v2, np.array([s2])[:, None]], atol = 1e-5))\n",
    "print(np.allclose(np.r_[u3_original, v3_original, np.array([s3_original])[:, None]], \n",
    "                  np.r_[u3, v3, np.array([s3])[:, None]], atol = 1e-3))\n",
    "\n",
    "print(np.allclose(np.r_[u1_sparsesvd, v1_sparsesvd, np.array([s1_sparsesvd])[:, None]], \n",
    "                  np.r_[u1, v1, np.array([s1])[:, None]], atol = 1e-5))\n",
    "print(np.allclose(np.r_[-u2_sparsesvd, -v2_sparsesvd, np.array([s2_sparsesvd])[:, None]], \n",
    "                  np.r_[u2, v2, np.array([s2])[:, None]], atol = 1e-5))\n",
    "print(np.allclose(np.r_[u3_sparsesvd, v3_sparsesvd, np.array([s3_sparsesvd])[:, None]], \n",
    "                  np.r_[u3, v3, np.array([s3])[:, None]], atol = 1e-3))"
   ]
  },
  {
   "cell_type": "code",
   "execution_count": 136,
   "metadata": {},
   "outputs": [
    {
     "data": {
      "image/png": "[encoded data removed]",
      "text/plain": [
       "<Figure size 720x720 with 4 Axes>"
      ]
     },
     "metadata": {
      "needs_background": "light"
     },
     "output_type": "display_data"
    }
   ],
   "source": [
    "group_indices = [np.arange(7), np.arange(7,13)]\n",
    "markers = [\"o\", \"x\"]\n",
    "labels = [\"Yes\", \"No\"]\n",
    "fig, axs = plt.subplots(2, 2, figsize=(10, 10))\n",
    "for row in axs:\n",
    "    for ax in row:\n",
    "        ax.set_xlim([-0.6, 0.6])\n",
    "        ax.set_ylim([-0.6, 0.6])\n",
    "for i in range(len(group_indices)):\n",
    "    group = group_indices[i]\n",
    "    axs[0,0].scatter(u1[group], u2[group], marker = markers[i])\n",
    "    axs[1,0].scatter(u1[group], u3[group], marker = markers[i])\n",
    "    axs[1,1].scatter(u2[group], u3[group], marker = markers[i])\n",
    "    axs[0,1].scatter(0, 0, marker = markers[i], label = labels[i])\n",
    "axs[0,1].legend(loc = 10, fontsize=27).get_frame().set_edgecolor('black')\n",
    "axs[0,0].set_xlabel(\"u1\")\n",
    "axs[1,0].set_xlabel(\"u1\")\n",
    "axs[1,1].set_xlabel(\"u2\")\n",
    "axs[0,0].set_ylabel(\"u2\")\n",
    "axs[1,0].set_ylabel(\"u3\")\n",
    "axs[1,1].set_ylabel(\"u3\")\n",
    "axs[0,1].set_yticks(()) \n",
    "axs[0,1].set_xticks(());"
   ]
  },
  {
   "cell_type": "code",
   "execution_count": 41,
   "metadata": {},
   "outputs": [],
   "source": [
    "def get_X_for_plotting(u, v, s):\n",
    "    group_indices = [np.arange(7), np.arange(7,13)]\n",
    "    for group in group_indices:\n",
    "        u[group] = np.sort(u[group], axis = 0)\n",
    "\n",
    "    v_nonzero = v[np.argsort(np.abs(v), axis = 0).flatten()]\n",
    "    v = np.sort(v_nonzero, axis = 0)\n",
    "    return s * u @ v.T"
   ]
  },
  {
   "cell_type": "code",
   "execution_count": 42,
   "metadata": {},
   "outputs": [],
   "source": [
    "X1 = get_X_for_plotting(u1, v1, s1)\n",
    "X2 = get_X_for_plotting(u2, v2, s2)\n",
    "X3 = get_X_for_plotting(u3, v3, s3)\n",
    "max_val = np.max(np.abs(np.c_[X1,X2,X3]))\n",
    "# rescale for increased contrast due to differing colormap\n",
    "rescale = 3\n",
    "X1 /= max_val/rescale\n",
    "X2 /= max_val/rescale\n",
    "X3 /= max_val/rescale"
   ]
  },
  {
   "cell_type": "code",
   "execution_count": 61,
   "metadata": {},
   "outputs": [],
   "source": [
    "def plot_comp(X, title, ax_given, cbar_ax, yticklabels):\n",
    "    ax = sns.heatmap(X, vmin = -1, vmax = 1, cmap = 'bwr', ax = ax_given, cbar_ax = cbar_ax)\n",
    "    ax.hlines([13], *ax.get_xlim(), linestyle=':', color = 'sienna')\n",
    "    ax.set_yticks([7.5, 22]) \n",
    "    ax.set_ylim([-5, 30])\n",
    "    ax.set_yticklabels(yticklabels) \n",
    "    ax.set_title(title)\n",
    "    ax.set_xlabel(\"Evaluation Index\");"
   ]
  },
  {
   "cell_type": "code",
   "execution_count": 62,
   "metadata": {},
   "outputs": [
    {
     "data": {
      "image/png": "[encoded data removed]",
      "text/plain": [
       "<Figure size 1152x288 with 4 Axes>"
      ]
     },
     "metadata": {
      "needs_background": "light"
     },
     "output_type": "display_data"
    }
   ],
   "source": [
    "fig, (ax1, ax2, ax3) = plt.subplots(ncols=3, figsize=(16, 4))\n",
    "cbar_ax = fig.add_axes([.92, .12, .02, 0.76])\n",
    "plot_comp(X1, \"1st Layer\", ax1, cbar_ax, (\"Fraud\", \"No\"))\n",
    "plot_comp(X2, \"2nd Layer\", ax2, cbar_ax, (\"Fraud\", \"No\"))\n",
    "plot_comp(X3, \"3rd Layer\", ax3, cbar_ax, (\"Fraud\", \"No\"))"
   ]
  },
  {
   "cell_type": "code",
   "execution_count": null,
   "metadata": {},
   "outputs": [],
   "source": []
  }
 ],
 "metadata": {
  "kernelspec": {
   "display_name": "Python 3",
   "language": "python",
   "name": "python3"
  },
  "language_info": {
   "codemirror_mode": {
    "name": "ipython",
    "version": 3
   },
   "file_extension": ".py",
   "mimetype": "text/x-python",
   "name": "python",
   "nbconvert_exporter": "python",
   "pygments_lexer": "ipython3",
   "version": "3.7.9"
  }
 },
 "nbformat": 4,
 "nbformat_minor": 4
}
