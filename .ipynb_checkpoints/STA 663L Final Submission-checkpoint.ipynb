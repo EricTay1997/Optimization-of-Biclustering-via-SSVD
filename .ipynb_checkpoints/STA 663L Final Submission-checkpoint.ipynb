{
 "cells": [
  {
   "cell_type": "code",
   "execution_count": 1,
   "metadata": {},
   "outputs": [],
   "source": [
    "import numpy as np\n",
    "import seaborn as sns\n",
    "import matplotlib.pyplot as plt\n",
    "import copy\n",
    "from sklearn.cluster import SpectralBiclustering\n",
    "# Run this when it is ready\n",
    "# !pip install -i https://test.pypi.org/simple/ ssvd-pkg-cathy10\n",
    "# from ssvd_pkg import ssvd_original, ssvd_new\n",
    "# Uncomment this\n",
    "from algorithms import * "
   ]
  },
  {
   "cell_type": "markdown",
   "metadata": {},
   "source": [
    "# Simulation 1 - Rank 1 Approximation"
   ]
  },
  {
   "cell_type": "code",
   "execution_count": 44,
   "metadata": {},
   "outputs": [],
   "source": [
    "u_tilde = np.concatenate((np.arange(10,2,-1), 2*np.ones(17), np.zeros(75)))[:,None]\n",
    "u_true = u_tilde/np.linalg.norm(u_tilde)\n",
    "v_tilde = np.concatenate((np.array([10, -10, 8, -8, 5, -5]), 3*np.ones(5), -3*np.ones(5), np.zeros(34)))[:,None]\n",
    "v_true = v_tilde/np.linalg.norm(v_tilde)\n",
    "X_star = 50*u_true*v_true.T\n",
    "n, d = X_star.shape\n",
    "np.random.seed(0)\n",
    "nsims = 100\n",
    "sims = np.empty((nsims, n, d))\n",
    "for i in range(nsims):\n",
    "    sims[i] = X_star + np.random.randn(n, d)"
   ]
  },
  {
   "cell_type": "code",
   "execution_count": 45,
   "metadata": {},
   "outputs": [],
   "source": [
    "u_true_labels = u_true == 0\n",
    "v_true_labels = v_true == 0"
   ]
  },
  {
   "cell_type": "markdown",
   "metadata": {},
   "source": [
    "## Optimization"
   ]
  },
  {
   "cell_type": "code",
   "execution_count": 64,
   "metadata": {},
   "outputs": [],
   "source": [
    "ssvd_u_preds_original, ssvd_v_preds_original, ssvd_s_values_original = list(zip(*list(map(ssvd_original, sims))))"
   ]
  },
  {
   "cell_type": "code",
   "execution_count": null,
   "metadata": {},
   "outputs": [],
   "source": [
    "print(\"SSVD Misclassification rate for u is {0:.2f}%\".format(np.mean(list(map(lambda x : np.mean((x == 0) != u_true_labels), ssvd_u_preds_original)))*100))\n",
    "print(\"SSVD Misclassification rate for v is {0:.2f}%\".format(np.mean(list(map(lambda x : np.mean((x == 0) != v_true_labels), ssvd_v_preds_original)))*100))"
   ]
  },
  {
   "cell_type": "code",
   "execution_count": null,
   "metadata": {},
   "outputs": [],
   "source": [
    "ssvd_u_preds, ssvd_v_preds, ssvd_s_values = list(zip(*list(map(ssvd_new, sims))))"
   ]
  },
  {
   "cell_type": "code",
   "execution_count": null,
   "metadata": {},
   "outputs": [],
   "source": [
    "print(\"SSVD Misclassification rate for u is {0:.2f}%\".format(np.mean(list(map(lambda x : np.mean((x == 0) != u_true_labels), ssvd_u_preds)))*100))\n",
    "print(\"SSVD Misclassification rate for v is {0:.2f}%\".format(np.mean(list(map(lambda x : np.mean((x == 0) != v_true_labels), ssvd_v_preds)))*100))"
   ]
  },
  {
   "cell_type": "code",
   "execution_count": null,
   "metadata": {},
   "outputs": [],
   "source": [
    "print(np.allclose(ssvd_u_preds_original, ssvd_u_preds, atol = 1e-5))\n",
    "print(np.allclose(ssvd_v_preds_original, ssvd_v_preds, atol = 1e-5))\n",
    "print(np.allclose(ssvd_s_values_original, ssvd_s_values, atol = 1e-5))"
   ]
  },
  {
   "cell_type": "code",
   "execution_count": 61,
   "metadata": {},
   "outputs": [
    {
     "name": "stdout",
     "output_type": "stream",
     "text": [
      "CPU times: user 4.69 s, sys: 392 ms, total: 5.09 s\n",
      "Wall time: 2.66 s\n"
     ]
    }
   ],
   "source": [
    "%%timeit\n",
    "ssvd_u_preds_original, ssvd_v_preds_original, ssvd_s_values_original = list(zip(*list(map(ssvd_original, sims))))"
   ]
  },
  {
   "cell_type": "code",
   "execution_count": 63,
   "metadata": {},
   "outputs": [
    {
     "name": "stdout",
     "output_type": "stream",
     "text": [
      "CPU times: user 1.3 s, sys: 126 ms, total: 1.43 s\n",
      "Wall time: 754 ms\n"
     ]
    }
   ],
   "source": [
    "%%timeit\n",
    "ssvd_u_preds, ssvd_v_preds, ssvd_s_values = list(zip(*list(map(ssvd_new, sims))))"
   ]
  },
  {
   "cell_type": "markdown",
   "metadata": {},
   "source": [
    "## Comparison with other algorithms"
   ]
  },
  {
   "cell_type": "markdown",
   "metadata": {},
   "source": [
    "### SVD"
   ]
  },
  {
   "cell_type": "code",
   "execution_count": 6,
   "metadata": {},
   "outputs": [],
   "source": [
    "svd_u_preds, svd_v_preds = list(zip(*list(map(lambda x : (x[0][:,0][:,None], x[2][0,:][:,None]), map(lambda x : np.linalg.svd(x, full_matrices = False), sims)))))"
   ]
  },
  {
   "cell_type": "code",
   "execution_count": 7,
   "metadata": {},
   "outputs": [
    {
     "name": "stdout",
     "output_type": "stream",
     "text": [
      "SVD Misclassification rate for u is 75.00%\n",
      "SVD Misclassification rate for v is 68.00%\n"
     ]
    }
   ],
   "source": [
    "print(\"SVD Misclassification rate for u is {0:.2f}%\".format(np.mean(list(map(lambda x : np.mean((x == 0) != u_true_labels), svd_u_preds)))*100))\n",
    "print(\"SVD Misclassification rate for v is {0:.2f}%\".format(np.mean(list(map(lambda x : np.mean((x == 0) != v_true_labels), svd_v_preds)))*100))"
   ]
  },
  {
   "cell_type": "markdown",
   "metadata": {},
   "source": [
    "### Spectral Clustering"
   ]
  },
  {
   "cell_type": "code",
   "execution_count": 8,
   "metadata": {},
   "outputs": [],
   "source": [
    "sc_u_preds, sc_v_preds = list(zip(*list(map(lambda x : (x.row_labels_, x.column_labels_), map(lambda x : SpectralBiclustering(n_clusters=2, random_state=0).fit(x), sims)))))"
   ]
  },
  {
   "cell_type": "code",
   "execution_count": 9,
   "metadata": {},
   "outputs": [
    {
     "name": "stdout",
     "output_type": "stream",
     "text": [
      "Spectral Clusting Misclassification rate for u is 47.11%\n",
      "Spectral Clusting Misclassification rate for v is 37.74%\n"
     ]
    }
   ],
   "source": [
    "sc_u_wrong = np.mean(list(map(lambda x : min(np.mean((x == 0) != u_true_labels), np.mean((x == 1) != u_true_labels)), sc_u_preds)))*100\n",
    "sc_v_wrong = np.mean(list(map(lambda x : min(np.mean((x == 0) != v_true_labels), np.mean((x == 1) != v_true_labels)), sc_v_preds)))*100\n",
    "print(\"Spectral Clusting Misclassification rate for u is {0:.2f}%\".format(sc_u_wrong))\n",
    "print(\"Spectral Clusting Misclassification rate for v is {0:.2f}%\".format(sc_v_wrong))"
   ]
  },
  {
   "cell_type": "markdown",
   "metadata": {},
   "source": [
    "# Simulation 2 - Higher Rank Approximation"
   ]
  },
  {
   "cell_type": "code",
   "execution_count": 22,
   "metadata": {},
   "outputs": [
    {
     "data": {
      "image/png": "[encoded data removed]",
      "text/plain": [
       "<Figure size 432x288 with 2 Axes>"
      ]
     },
     "metadata": {
      "needs_background": "light"
     },
     "output_type": "display_data"
    }
   ],
   "source": [
    "X_star = np.fromfunction(lambda i, j: np.where((25 <= j) & (j <= 74), (24**2 - (i+1-25)**2 - (j+1-50)**2)/100, 0), (50,100)) # like ternary\n",
    "X_star *= (np.abs(X_star) > 1)\n",
    "ax = sns.heatmap(X_star, vmin = -1, vmax = 1, cmap = 'bwr')\n",
    "ax.set_title(\"True Signal\");\n",
    "xticks = np.arange(10,110,10)\n",
    "ax.set_xticks(xticks)\n",
    "ax.set_xticklabels(xticks)\n",
    "yticks = np.arange(10,60,10)\n",
    "ax.set_yticks(yticks)\n",
    "ax.set_yticklabels(yticks);"
   ]
  },
  {
   "cell_type": "code",
   "execution_count": 23,
   "metadata": {},
   "outputs": [],
   "source": [
    "nsims = 100\n",
    "n, d = X_star.shape\n",
    "sims = np.empty((nsims, n, d))\n",
    "for i in range(nsims):\n",
    "    sims[i] = X_star + np.random.randn(n, d)"
   ]
  },
  {
   "cell_type": "markdown",
   "metadata": {},
   "source": [
    "## Comparison with other algorithms"
   ]
  },
  {
   "cell_type": "code",
   "execution_count": 26,
   "metadata": {},
   "outputs": [
    {
     "name": "stdout",
     "output_type": "stream",
     "text": [
      "Failed to converge in 40 iterations. Try increasing tolerance, or increasing the maximum number of iterations.\n"
     ]
    }
   ],
   "source": [
    "sims_copy = copy.deepcopy(sims)\n",
    "layers = 8\n",
    "ssvd_estimates = np.empty((layers, nsims, n, d))\n",
    "for i in range(layers):\n",
    "    # Failure of convergence is expected at high number of layers, given that most information is already extracted by then.\n",
    "    ssvd_predictions = np.array(list(map(lambda x : x[2] * x[0] @ x[1].T, map(lambda x : ssvd_new(x, tol = 1e-3, max_iter = 40), sims_copy))))\n",
    "    ssvd_estimates[i] = ssvd_predictions\n",
    "    sims_copy -= ssvd_predictions"
   ]
  },
  {
   "cell_type": "code",
   "execution_count": 27,
   "metadata": {},
   "outputs": [],
   "source": [
    "svd_decomps = list(map(lambda x : np.linalg.svd(x, full_matrices = False), sims_copy))\n",
    "svd_estimates = np.empty((layers, nsims, n, d))\n",
    "for i in range(layers):\n",
    "    svd_estimates[i] = np.array(list(map(lambda x : x[1][i] * x[0][:,i][:,None] @ x[2][i,:][None,:],svd_decomps)))"
   ]
  },
  {
   "cell_type": "code",
   "execution_count": 28,
   "metadata": {},
   "outputs": [],
   "source": [
    "for i in range(1, layers):\n",
    "    ssvd_estimates[i] += ssvd_estimates[i-1]\n",
    "    svd_estimates[i] += svd_estimates[i-1]"
   ]
  },
  {
   "cell_type": "code",
   "execution_count": 29,
   "metadata": {},
   "outputs": [],
   "source": [
    "ssvd_classification = []\n",
    "svd_classification = []\n",
    "X_star_labels = X_star == 0\n",
    "for i in range(layers):\n",
    "    ssvd_classification.append(np.mean(list((map(lambda x : np.mean((x == 0) == X_star_labels), ssvd_estimates[i])))))\n",
    "    svd_classification.append(np.mean(list((map(lambda x : np.mean((x == 0) == X_star_labels), svd_estimates[i])))))"
   ]
  },
  {
   "cell_type": "code",
   "execution_count": null,
   "metadata": {},
   "outputs": [],
   "source": [
    "max_equal = lambda x : max(np.mean(x == (X_star == 0)), np.mean(x == (X_star != 0)))\n",
    "sc_classification = list(map(lambda num_layers : \n",
    "                             np.mean(list(map(lambda x : max(max_equal(x.row_labels_[:, None] @ x.column_labels_[None, :]),\n",
    "                                                             max_equal((x.row_labels_[:, None] == 0) @ x.column_labels_[None, :]), \n",
    "                                                             max_equal(x.row_labels_[:, None] @ (x.column_labels_[None, :] == 0)), \n",
    "                                                             max_equal((x.row_labels_[:, None] == 0) @ (x.column_labels_[None, :] == 0))), \n",
    "                                              map(lambda x : SpectralBiclustering(n_clusters=2, random_state=0, n_components = num_layers, n_best = min(3, num_layers)).fit(x), sims)))), np.arange(1,9)))"
   ]
  },
  {
   "cell_type": "code",
   "execution_count": 43,
   "metadata": {},
   "outputs": [
    {
     "data": {
      "image/png": "[encoded data removed]",
      "text/plain": [
       "<Figure size 432x288 with 1 Axes>"
      ]
     },
     "metadata": {
      "needs_background": "light"
     },
     "output_type": "display_data"
    }
   ],
   "source": [
    "plt.plot(np.arange(1,9), ssvd_classification, label = \"SSVD\", color = \"red\")\n",
    "plt.plot(np.arange(1,9), svd_classification, label = \"SVD\", color = \"blue\", linestyle = \"dashed\")\n",
    "plt.plot(np.arange(1,9), sc_classification, label = \"SC\", color = \"green\", linestyle = \"dashed\")\n",
    "plt.xlabel(\"Number of Layers\")\n",
    "plt.ylim([0.3, 1])\n",
    "plt.xlim([1, 8])\n",
    "plt.title(\"Correctly classified entries\")\n",
    "plt.legend();"
   ]
  },
  {
   "cell_type": "markdown",
   "metadata": {},
   "source": [
    "# Real Dataset 1 - Lung Cancer Data (In Paper)"
   ]
  },
  {
   "cell_type": "markdown",
   "metadata": {},
   "source": [
    "## Optimization"
   ]
  },
  {
   "cell_type": "code",
   "execution_count": null,
   "metadata": {},
   "outputs": [],
   "source": [
    "X_lung = np.loadtxt('lungcancerdata.txt', delimiter = ' ').T"
   ]
  },
  {
   "cell_type": "code",
   "execution_count": null,
   "metadata": {},
   "outputs": [],
   "source": [
    "%%time\n",
    "u1_original, v1_original, s1_original = ssvd_original(X_lung)\n",
    "X_lung -= s1_original*(u1_original @ v1_original.T)\n",
    "u2_original, v2_original, s2_original = ssvd_original(X_lung)\n",
    "X_lung -= s2_original*(u2_original @ v2_original.T)\n",
    "u3_original, v3_original, s3_original = ssvd_original(X_lung)"
   ]
  },
  {
   "cell_type": "code",
   "execution_count": null,
   "metadata": {},
   "outputs": [],
   "source": [
    "X_lung = np.loadtxt('lungcancerdata.txt', delimiter = ' ').T"
   ]
  },
  {
   "cell_type": "code",
   "execution_count": null,
   "metadata": {},
   "outputs": [],
   "source": [
    "%%time\n",
    "u1, v1, s1 = ssvd_new(X_lung)\n",
    "X_lung -= s1*(u1 @ v1.T)\n",
    "u2, v2, s2 = ssvd_new(X_lung)\n",
    "X_lung -= s2*(u2 @ v2.T)\n",
    "u3, v3, s3 = ssvd_new(X_lung)"
   ]
  },
  {
   "cell_type": "code",
   "execution_count": 98,
   "metadata": {},
   "outputs": [
    {
     "name": "stdout",
     "output_type": "stream",
     "text": [
      "False\n"
     ]
    }
   ],
   "source": [
    "print(np.allclose(np.r_[u1_original, v1_original, np.array([s1_original])[:, None]], \n",
    "                  np.r_[u1, v1, np.array([s1])[:, None]], atol = 1e-5))\n",
    "print(np.allclose(np.r_[u2_original, v2_original, np.array([s2_original])[:, None]], \n",
    "                  np.r_[u2, v2, np.array([s2])[:, None]], atol = 1e-5))\n",
    "print(np.allclose(np.r_[u3_original, v3_original, np.array([s3_original])[:, None]], \n",
    "                  np.r_[u3, v3, np.array([s3])[:, None]], atol = 1e-5))"
   ]
  },
  {
   "cell_type": "code",
   "execution_count": 90,
   "metadata": {},
   "outputs": [
    {
     "data": {
      "image/png": "[encoded data removed]",
      "text/plain": [
       "<Figure size 720x720 with 4 Axes>"
      ]
     },
     "metadata": {
      "needs_background": "light"
     },
     "output_type": "display_data"
    }
   ],
   "source": [
    "group_indices = [np.arange(20), np.arange(20,33), np.arange(33,50), np.arange(50,56)]\n",
    "markers = [\"o\", \"s\", \"X\", \"d\"]\n",
    "labels = [\"Carcinoid\", \"Colon\", \"Normal\", \"SmallCell\"]\n",
    "fig, axs = plt.subplots(2, 2, figsize=(10, 10))\n",
    "for row in axs:\n",
    "    for ax in row:\n",
    "        ax.set_xlim([-0.4, 0.4])\n",
    "        ax.set_ylim([-0.4, 0.4])\n",
    "for i in range(len(group_indices)):\n",
    "    group = group_indices[i]\n",
    "    axs[0,0].scatter(u1[group], u2[group], marker = markers[i])\n",
    "    axs[1,0].scatter(u1[group], u3[group], marker = markers[i])\n",
    "    axs[1,1].scatter(u2[group], u3[group], marker = markers[i])\n",
    "    axs[0,1].scatter(0, 0, marker = markers[i], label = labels[i])\n",
    "axs[0,1].legend(loc = 10, fontsize=27).get_frame().set_edgecolor('black')\n",
    "axs[0,0].set_xlabel(\"u1\")\n",
    "axs[1,0].set_xlabel(\"u1\")\n",
    "axs[1,1].set_xlabel(\"u2\")\n",
    "axs[0,0].set_ylabel(\"u2\")\n",
    "axs[1,0].set_ylabel(\"u3\")\n",
    "axs[1,1].set_ylabel(\"u3\")\n",
    "axs[0,1].set_yticks(()) \n",
    "axs[0,1].set_xticks(());"
   ]
  },
  {
   "cell_type": "code",
   "execution_count": 91,
   "metadata": {},
   "outputs": [],
   "source": [
    "def get_X_for_plotting(u, v, s):\n",
    "    group_indices = [np.arange(20), np.arange(20,33), np.arange(33,50), np.arange(50,56)]\n",
    "    for group in group_indices:\n",
    "        u[group] = np.sort(u[group], axis = 0)\n",
    "\n",
    "    v_nonzero = v[np.argsort(np.abs(v), axis = 0)[8000:].flatten()]\n",
    "    v = np.sort(v_nonzero, axis = 0)\n",
    "    return s * u @ v.T"
   ]
  },
  {
   "cell_type": "code",
   "execution_count": 92,
   "metadata": {},
   "outputs": [],
   "source": [
    "X1 = get_X_for_plotting(u1, v1, s1)\n",
    "X2 = get_X_for_plotting(u2, v2, s2)\n",
    "X3 = get_X_for_plotting(u3, v3, s3)\n",
    "max_val = np.max(np.abs(np.c_[X1,X2,X3]))\n",
    "# rescale for increased contrast due to differing colormap\n",
    "rescale = 3\n",
    "X1 /= max_val/rescale\n",
    "X2 /= max_val/rescale\n",
    "X3 /= max_val/rescale"
   ]
  },
  {
   "cell_type": "code",
   "execution_count": 93,
   "metadata": {},
   "outputs": [],
   "source": [
    "def plot_lung(X, title, xticks, ax_given, cbar_ax, yticklabels):\n",
    "    ax = sns.heatmap(X, vmin = -1, vmax = 1, cmap = 'bwr', ax = ax_given, cbar_ax = cbar_ax)\n",
    "    ax.hlines([20, 33, 50], *ax.get_xlim(), linestyle=':', color = 'sienna')\n",
    "    ax.vlines([xticks[0], xticks[1]-8000], *ax.get_xlim(), linestyle=':', color = 'sienna')\n",
    "    ax.set_xticks((xticks[0], xticks[1]-8000)) \n",
    "    ax.set_xticklabels((str(xticks[0]), str(xticks[1])), rotation = 0)\n",
    "    ax.set_yticks((10, 27, 42, 53)) \n",
    "    ax.set_yticklabels(yticklabels) \n",
    "    ax.set_title(title)\n",
    "    ax.set_xlabel(\"Ordered gene index\");"
   ]
  },
  {
   "cell_type": "code",
   "execution_count": 94,
   "metadata": {},
   "outputs": [
    {
     "data": {
      "image/png": "[encoded data removed]",
      "text/plain": [
       "<Figure size 1152x288 with 4 Axes>"
      ]
     },
     "metadata": {
      "needs_background": "light"
     },
     "output_type": "display_data"
    }
   ],
   "source": [
    "fig, (ax1, ax2, ax3) = plt.subplots(ncols=3, figsize=(16, 4))\n",
    "cbar_ax = fig.add_axes([.92, .12, .02, 0.76])\n",
    "plot_lung(X1, \"1st Layer\", [1463, 10883], ax1, cbar_ax, (\"Carcinoid\", \"Colon\", \"Normal\", \"SmallCell\"))\n",
    "plot_lung(X2, \"2nd Layer\", [1489, 11603], ax2, cbar_ax, ())\n",
    "plot_lung(X3, \"3rd Layer\", [695, 12099], ax3, cbar_ax, ())"
   ]
  },
  {
   "cell_type": "markdown",
   "metadata": {},
   "source": [
    "# Real Dataset 2 - Company Financial Fraud Data (Not In Paper)"
   ]
  },
  {
   "cell_type": "code",
   "execution_count": null,
   "metadata": {},
   "outputs": [],
   "source": [
    "X_com = np.loadtxt('company.txt').T"
   ]
  },
  {
   "cell_type": "code",
   "execution_count": null,
   "metadata": {},
   "outputs": [],
   "source": [
    "u1, v1, s1 = ssvd_new(X_com)\n",
    "X_com -= s1*(u1 @ v1.T)\n",
    "u2, v2, s2 = ssvd_new(X_com)\n",
    "X_com -= s2*(u2 @ v2.T)\n",
    "u3, v3, s3 = ssvd_new(X_com)"
   ]
  },
  {
   "cell_type": "code",
   "execution_count": null,
   "metadata": {},
   "outputs": [],
   "source": [
    "group_indices = [np.arange(), np.arange(15,35)]\n",
    "markers = [\"o\", \"x\"]\n",
    "labels = [\"Yes\", \"No\"]\n",
    "fig, axs = plt.subplots(2, 2, figsize=(10, 10))\n",
    "for row in axs:\n",
    "    for ax in row:\n",
    "        ax.set_xlim([-0.4, 0.4])\n",
    "        ax.set_ylim([-0.4, 0.4])\n",
    "for i in range(len(group_indices)):\n",
    "    group = group_indices[i]\n",
    "    axs[0,0].scatter(u1[group], u2[group], marker = markers[i])\n",
    "    axs[1,0].scatter(u1[group], u3[group], marker = markers[i])\n",
    "    axs[1,1].scatter(u2[group], u3[group], marker = markers[i])\n",
    "    axs[0,1].scatter(0, 0, marker = markers[i], label = labels[i])\n",
    "axs[0,1].legend(loc = 10, fontsize=27).get_frame().set_edgecolor('black')\n",
    "axs[0,0].set_xlabel(\"u1\")\n",
    "axs[1,0].set_xlabel(\"u1\")\n",
    "axs[1,1].set_xlabel(\"u2\")\n",
    "axs[0,0].set_ylabel(\"u2\")\n",
    "axs[1,0].set_ylabel(\"u3\")\n",
    "axs[1,1].set_ylabel(\"u3\")\n",
    "axs[0,1].set_yticks(()) \n",
    "axs[0,1].set_xticks(());"
   ]
  },
  {
   "cell_type": "code",
   "execution_count": null,
   "metadata": {},
   "outputs": [],
   "source": [
    "def get_X_for_plotting(u, v, s):\n",
    "    group_indices = [np.arange(15), np.arange(15,35)]\n",
    "    for group in group_indices:\n",
    "        u[group] = np.sort(u[group], axis = 0)\n",
    "\n",
    "    v_nonzero = v[np.argsort(np.abs(v), axis = 0).flatten()]\n",
    "    v = np.sort(v_nonzero, axis = 0)\n",
    "    return s * u @ v.T"
   ]
  },
  {
   "cell_type": "code",
   "execution_count": null,
   "metadata": {},
   "outputs": [],
   "source": [
    "X1 = get_X_for_plotting(u1, v1, s1)\n",
    "X2 = get_X_for_plotting(u2, v2, s2)\n",
    "X3 = get_X_for_plotting(u3, v3, s3)\n",
    "max_val = np.max(np.abs(np.c_[X1,X2,X3]))\n",
    "# rescale for increased contrast due to differing colormap\n",
    "rescale = 3\n",
    "X1 /= max_val/rescale\n",
    "X2 /= max_val/rescale\n",
    "X3 /= max_val/rescale"
   ]
  },
  {
   "cell_type": "code",
   "execution_count": null,
   "metadata": {},
   "outputs": [],
   "source": [
    "def plot_comp(X, title, ax_given, cbar_ax, yticklabels):\n",
    "    ax = sns.heatmap(X, vmin = -1, vmax = 1, cmap = 'bwr', ax = ax_given, cbar_ax = cbar_ax)\n",
    "    ax.hlines([15], *ax.get_xlim(), linestyle=':', color = 'sienna')\n",
    "   # ax.vlines([xticks[0], xticks[1]], *ax.get_xlim(), linestyle=':', color = 'sienna')\n",
    "    #ax.set_xticks((xticks[0], xticks[1])) \n",
    "    #ax.set_xticklabels((str(xticks[0]), str(xticks[1])), rotation = 0)\n",
    "    ax.set_yticks((10,50)) \n",
    "    ax.set_yticklabels(yticklabels) \n",
    "    ax.set_title(title)\n",
    "    ax.set_xlabel(\"Company index\");"
   ]
  },
  {
   "cell_type": "code",
   "execution_count": null,
   "metadata": {},
   "outputs": [],
   "source": [
    "fig, (ax1, ax2, ax3) = plt.subplots(ncols=3, figsize=(16, 4))\n",
    "cbar_ax = fig.add_axes([.92, .12, .02, 0.76])\n",
    "plot_comp(X1, \"1st Layer\", ax1, cbar_ax, (\"Fraud\", \"No\"))\n",
    "plot_comp(X2, \"2nd Layer\", ax2, cbar_ax, ())\n",
    "plot_comp(X3, \"3rd Layer\", ax3, cbar_ax, ())"
   ]
  }
 ],
 "metadata": {
  "kernelspec": {
   "display_name": "Python 3",
   "language": "python",
   "name": "python3"
  },
  "language_info": {
   "codemirror_mode": {
    "name": "ipython",
    "version": 3
   },
   "file_extension": ".py",
   "mimetype": "text/x-python",
   "name": "python",
   "nbconvert_exporter": "python",
   "pygments_lexer": "ipython3",
   "version": "3.7.6"
  }
 },
 "nbformat": 4,
 "nbformat_minor": 4
}
