{
 "cells": [
  {
   "cell_type": "code",
   "execution_count": 1,
   "metadata": {},
   "outputs": [],
   "source": [
    "import numpy as np\n",
    "import seaborn as sns\n",
    "import matplotlib.pyplot as plt\n",
    "import copy\n",
    "import numba\n",
    "from numba import jit"
   ]
  },
  {
   "cell_type": "code",
   "execution_count": 2,
   "metadata": {},
   "outputs": [],
   "source": [
    "@jit(nopython=True)\n",
    "def BIC_v(lambda_v, v_hat, w2, u, sigma_sq_hat, nd, X):\n",
    "    v = np.abs(v_hat) - lambda_v*w2/2\n",
    "    df = np.sum(v > 0)\n",
    "    \n",
    "    vcopy = v.ravel()\n",
    "    \n",
    "    for i in range(vcopy.shape[0]):\n",
    "        if vcopy[i] <= 0:\n",
    "            vcopy[i] = 0\n",
    "    v = vcopy.reshape(v.shape)\n",
    "    \n",
    "    v *= np.sign(v_hat)\n",
    "    return (np.linalg.norm(X - u @ v.T)**2/sigma_sq_hat + np.log(nd)*df, v)\n",
    "\n",
    "@jit(nopython=True)\n",
    "def BIC_u(lambda_u, u_hat, w1, v, sigma_sq_hat, nd, X):\n",
    "    u = np.abs(u_hat) - lambda_u*w1/2\n",
    "    df = np.sum(u > 0)\n",
    "    \n",
    "    ucopy = u.ravel()\n",
    "    for i in range(ucopy.shape[0]):\n",
    "        if ucopy[i] <= 0:\n",
    "            ucopy[i] = 0\n",
    "    u = ucopy.reshape(u.shape)\n",
    "\n",
    "    u *= np.sign(u_hat)\n",
    "    return (np.linalg.norm(X - u @ v.T)**2/sigma_sq_hat + np.log(nd)*df, u)"
   ]
  },
  {
   "cell_type": "code",
   "execution_count": 3,
   "metadata": {},
   "outputs": [],
   "source": [
    "@jit(nopython=True)\n",
    "def ssvd(X, BIC_v = BIC_v, BIC_u = BIC_u, tol = 1e-3, lambda_us = None, lambda_vs = None, gamma1s=None, gamma2s=None, max_iter = 20):\n",
    "    \n",
    "    if gamma1s is None:\n",
    "        gamma1s = [2]\n",
    "    \n",
    "    if gamma2s is None:\n",
    "        gamma2s = [2]\n",
    "    \n",
    "    \n",
    "    U, S, V = np.linalg.svd(X, full_matrices = False)\n",
    "    u = U[:,0].copy()\n",
    "    u = u.reshape((u.shape[0],1))\n",
    "    v = V[0,:].copy()\n",
    "    v = v.reshape((v.shape[0],1))\n",
    "    s = S[0]\n",
    "    n, d = X.shape\n",
    "    nd = n*d\n",
    "    iter_num = 0\n",
    "    is_lambda_us_given = lambda_us is not None\n",
    "    is_lambda_vs_given = lambda_vs is not None\n",
    "   \n",
    "    while iter_num < max_iter:\n",
    "        \n",
    "        # Update v\n",
    "        v_hat = X.T @ u\n",
    "    \n",
    "        if not v_hat.any():\n",
    "            v_new = v_hat\n",
    "            \n",
    "        else:\n",
    "            sigma_sq_hat = np.linalg.norm(X - u @ v_hat.T)**2/(nd-d)\n",
    "            min_BIC_val = 1e8 \n",
    "            for gamma2 in gamma2s:\n",
    "                w2 = np.abs(v_hat)**-gamma2\n",
    "                if not is_lambda_vs_given:\n",
    "                    lambda_vs = np.abs(v_hat)*2/w2\n",
    "  \n",
    "                BIC_vals_lst=[0.]*lambda_vs.shape[0]\n",
    "                v_vals=[np.zeros((lambda_vs.shape[0],1))]*lambda_vs.shape[0]\n",
    "                for i in range(lambda_vs.shape[0]):\n",
    "                    bic_val, v_val = BIC_v(lambda_v=lambda_vs[i,0], v_hat=v_hat, w2=w2, u=u, sigma_sq_hat=sigma_sq_hat, nd=nd, X=X)\n",
    "                    BIC_vals_lst[i] = bic_val\n",
    "                    v_vals[i] = v_val\n",
    "                \n",
    "                BIC_vals = np.array(BIC_vals_lst)\n",
    "                if np.min(BIC_vals) < min_BIC_val:\n",
    "                    min_BIC_val = np.min(BIC_vals)\n",
    "                    v_new = v_vals[np.argmin(BIC_vals)]\n",
    "                    \n",
    "                    if v_new.any():\n",
    "                        v_new = v_new/np.linalg.norm(v_new)\n",
    "        delta_v_norm = np.linalg.norm(v_new - v)\n",
    "        v = v_new\n",
    "        \n",
    "        # Update u\n",
    "        u_hat = X @ v\n",
    "        \n",
    "        if not u_hat.any():\n",
    "            u_new = u_hat\n",
    "        else:\n",
    "            sigma_sq_hat = np.linalg.norm(X - u_hat @ v.T)**2/(nd-d)\n",
    "            min_BIC_val = 1e8 \n",
    "            for gamma1 in gamma1s:\n",
    "                w1 = np.abs(u_hat)**-gamma1\n",
    "                if not is_lambda_us_given:\n",
    "                    lambda_us = np.abs(u_hat)*2/w1\n",
    "            \n",
    "                BIC_vals_lst=[0.]*lambda_us.shape[0]\n",
    "                u_vals=[np.zeros((lambda_us.shape[0],1))]*lambda_us.shape[0]\n",
    "                for i in range(lambda_us.shape[0]):\n",
    "                    bic_val, u_val = BIC_u(lambda_u = lambda_us[i,0], u_hat=u_hat, w1=w1, v=v, sigma_sq_hat=sigma_sq_hat, nd=nd, X=X)\n",
    "                    BIC_vals_lst[i] = bic_val\n",
    "                    u_vals[i] = u_val\n",
    "                    \n",
    "                BIC_vals = np.array(BIC_vals_lst)\n",
    "                if np.min(BIC_vals) < min_BIC_val:\n",
    "                    min_BIC_val = np.min(BIC_vals)\n",
    "                    u_new = u_vals[np.argmin(BIC_vals)]\n",
    "                  \n",
    "                    if u_new.any():\n",
    "                        u_new = u_new/np.linalg.norm(u_new)\n",
    "        delta_u_norm = np.linalg.norm(u_new - u)\n",
    "        u = u_new\n",
    "        \n",
    "        iter_num += 1\n",
    "    \n",
    "        if (delta_v_norm < tol) and (delta_u_norm < tol):\n",
    "            break\n",
    "    \n",
    "    if (delta_v_norm >= tol) or (delta_u_norm >= tol):\n",
    "        \n",
    "        print(\"Failed to converge in\", iter_num, \"iterations. Try increasing tolerance, or increasing the maximum number of iterations.\")\n",
    "    \n",
    "    return u, v, s"
   ]
  },
  {
   "cell_type": "markdown",
   "metadata": {},
   "source": [
    "# Simulation 1 - Rank 1 Approximation"
   ]
  },
  {
   "cell_type": "code",
   "execution_count": 12,
   "metadata": {},
   "outputs": [],
   "source": [
    "u_tilde = np.concatenate((np.arange(10,2,-1), 2*np.ones(17), np.zeros(75)))[:,None]\n",
    "u_true = u_tilde/np.linalg.norm(u_tilde)\n",
    "v_tilde = np.concatenate((np.array([10, -10, 8, -8, 5, -5]), 3*np.ones(5), -3*np.ones(5), np.zeros(34)))[:,None]\n",
    "v_true = v_tilde/np.linalg.norm(v_tilde)\n",
    "X_star = 50*u_true*v_true.T\n",
    "n, d = X_star.shape\n",
    "np.random.seed(0)\n",
    "nsims = 100\n",
    "sims = np.empty((nsims, n, d))\n",
    "for i in range(nsims):\n",
    "    sims[i] = X_star + np.random.randn(n, d)\n",
    "u_true_labels = u_true == 0\n",
    "v_true_labels = v_true == 0"
   ]
  },
  {
   "cell_type": "code",
   "execution_count": 7,
   "metadata": {
    "scrolled": true
   },
   "outputs": [
    {
     "name": "stdout",
     "output_type": "stream",
     "text": [
      "1.5 s ± 353 ms per loop (mean ± std. dev. of 7 runs, 1 loop each)\n"
     ]
    }
   ],
   "source": [
    "%%timeit\n",
    "ssvd_u_preds, ssvd_v_preds, ssvd_s_values = list(zip(*list(map(ssvd, sims))))"
   ]
  },
  {
   "cell_type": "code",
   "execution_count": 13,
   "metadata": {},
   "outputs": [
    {
     "ename": "NameError",
     "evalue": "name 'ssvd_u_preds' is not defined",
     "output_type": "error",
     "traceback": [
      "\u001b[0;31m\u001b[0m",
      "\u001b[0;31mNameError\u001b[0mTraceback (most recent call last)",
      "\u001b[0;32m<ipython-input-13-011f5ee5e6e3>\u001b[0m in \u001b[0;36m<module>\u001b[0;34m()\u001b[0m\n\u001b[0;32m----> 1\u001b[0;31m \u001b[0mprint\u001b[0m\u001b[0;34m(\u001b[0m\u001b[0;34m\"SSVD Misclassification rate for u is {0:.2f}%\"\u001b[0m\u001b[0;34m.\u001b[0m\u001b[0mformat\u001b[0m\u001b[0;34m(\u001b[0m\u001b[0mnp\u001b[0m\u001b[0;34m.\u001b[0m\u001b[0mmean\u001b[0m\u001b[0;34m(\u001b[0m\u001b[0mlist\u001b[0m\u001b[0;34m(\u001b[0m\u001b[0mmap\u001b[0m\u001b[0;34m(\u001b[0m\u001b[0;32mlambda\u001b[0m \u001b[0mx\u001b[0m \u001b[0;34m:\u001b[0m \u001b[0mnp\u001b[0m\u001b[0;34m.\u001b[0m\u001b[0mmean\u001b[0m\u001b[0;34m(\u001b[0m\u001b[0;34m(\u001b[0m\u001b[0mx\u001b[0m \u001b[0;34m==\u001b[0m \u001b[0;36m0\u001b[0m\u001b[0;34m)\u001b[0m \u001b[0;34m!=\u001b[0m \u001b[0mu_true_labels\u001b[0m\u001b[0;34m)\u001b[0m\u001b[0;34m,\u001b[0m \u001b[0mssvd_u_preds\u001b[0m\u001b[0;34m)\u001b[0m\u001b[0;34m)\u001b[0m\u001b[0;34m)\u001b[0m\u001b[0;34m*\u001b[0m\u001b[0;36m100\u001b[0m\u001b[0;34m)\u001b[0m\u001b[0;34m)\u001b[0m\u001b[0;34m\u001b[0m\u001b[0;34m\u001b[0m\u001b[0m\n\u001b[0m\u001b[1;32m      2\u001b[0m \u001b[0mprint\u001b[0m\u001b[0;34m(\u001b[0m\u001b[0;34m\"SSVD Misclassification rate for v is {0:.2f}%\"\u001b[0m\u001b[0;34m.\u001b[0m\u001b[0mformat\u001b[0m\u001b[0;34m(\u001b[0m\u001b[0mnp\u001b[0m\u001b[0;34m.\u001b[0m\u001b[0mmean\u001b[0m\u001b[0;34m(\u001b[0m\u001b[0mlist\u001b[0m\u001b[0;34m(\u001b[0m\u001b[0mmap\u001b[0m\u001b[0;34m(\u001b[0m\u001b[0;32mlambda\u001b[0m \u001b[0mx\u001b[0m \u001b[0;34m:\u001b[0m \u001b[0mnp\u001b[0m\u001b[0;34m.\u001b[0m\u001b[0mmean\u001b[0m\u001b[0;34m(\u001b[0m\u001b[0;34m(\u001b[0m\u001b[0mx\u001b[0m \u001b[0;34m==\u001b[0m \u001b[0;36m0\u001b[0m\u001b[0;34m)\u001b[0m \u001b[0;34m!=\u001b[0m \u001b[0mv_true_labels\u001b[0m\u001b[0;34m)\u001b[0m\u001b[0;34m,\u001b[0m \u001b[0mssvd_v_preds\u001b[0m\u001b[0;34m)\u001b[0m\u001b[0;34m)\u001b[0m\u001b[0;34m)\u001b[0m\u001b[0;34m*\u001b[0m\u001b[0;36m100\u001b[0m\u001b[0;34m)\u001b[0m\u001b[0;34m)\u001b[0m\u001b[0;34m\u001b[0m\u001b[0;34m\u001b[0m\u001b[0m\n",
      "\u001b[0;31mNameError\u001b[0m: name 'ssvd_u_preds' is not defined"
     ]
    }
   ],
   "source": [
    "print(\"SSVD Misclassification rate for u is {0:.2f}%\".format(np.mean(list(map(lambda x : np.mean((x == 0) != u_true_labels), ssvd_u_preds)))*100))\n",
    "print(\"SSVD Misclassification rate for v is {0:.2f}%\".format(np.mean(list(map(lambda x : np.mean((x == 0) != v_true_labels), ssvd_v_preds)))*100))"
   ]
  },
  {
   "cell_type": "code",
   "execution_count": null,
   "metadata": {},
   "outputs": [],
   "source": [
    "print(\"SSVD Misclassification rate for u is {0:.2f}%\".format(np.mean(list(map(lambda x : np.mean((x == 0) != u_true_labels), ssvd_u_preds)))*100))\n",
    "print(\"SSVD Misclassification rate for v is {0:.2f}%\".format(np.mean(list(map(lambda x : np.mean((x == 0) != v_true_labels), ssvd_v_preds)))*100))"
   ]
  },
  {
   "cell_type": "code",
   "execution_count": null,
   "metadata": {},
   "outputs": [],
   "source": [
    "%prun -q -D ssvd.prof ssvd(sims[1])"
   ]
  },
  {
   "cell_type": "code",
   "execution_count": null,
   "metadata": {},
   "outputs": [],
   "source": [
    "import pstats\n",
    "p = pstats.Stats('ssvd.prof')\n",
    "p.print_stats()\n",
    "pass"
   ]
  },
  {
   "cell_type": "code",
   "execution_count": null,
   "metadata": {},
   "outputs": [],
   "source": [
    "p.sort_stats('ncalls').print_stats(5) #sort by ncalls--see which functions are called very often\n",
    "pass"
   ]
  },
  {
   "cell_type": "code",
   "execution_count": 6,
   "metadata": {},
   "outputs": [
    {
     "name": "stdout",
     "output_type": "stream",
     "text": [
      "SSVD Misclassification rate for u is 1.27%\n",
      "SSVD Misclassification rate for v is 0.28%\n"
     ]
    }
   ],
   "source": [
    "print(\"SSVD Misclassification rate for u is {0:.2f}%\".format(np.mean(list(map(lambda x : np.mean((x == 0) != u_true_labels), ssvd_u_preds)))*100))\n",
    "print(\"SSVD Misclassification rate for v is {0:.2f}%\".format(np.mean(list(map(lambda x : np.mean((x == 0) != v_true_labels), ssvd_v_preds)))*100))"
   ]
  },
  {
   "cell_type": "code",
   "execution_count": 7,
   "metadata": {},
   "outputs": [],
   "source": [
    "svd_u_preds, svd_v_preds = list(zip(*list(map(lambda x : (x[0][:,0][:,None], x[2][0,:][:,None]), map(lambda x : np.linalg.svd(x, full_matrices = False), sims)))))"
   ]
  },
  {
   "cell_type": "code",
   "execution_count": 8,
   "metadata": {},
   "outputs": [
    {
     "name": "stdout",
     "output_type": "stream",
     "text": [
      "SVD Misclassification rate for u is 75.00%\n",
      "SVD Misclassification rate for v is 68.00%\n"
     ]
    }
   ],
   "source": [
    "print(\"SVD Misclassification rate for u is {0:.2f}%\".format(np.mean(list(map(lambda x : np.mean((x == 0) != u_true_labels), svd_u_preds)))*100))\n",
    "print(\"SVD Misclassification rate for v is {0:.2f}%\".format(np.mean(list(map(lambda x : np.mean((x == 0) != v_true_labels), svd_v_preds)))*100))"
   ]
  },
  {
   "cell_type": "markdown",
   "metadata": {},
   "source": [
    "# Simulation 2 - Higher Rank Approximation"
   ]
  },
  {
   "cell_type": "code",
   "execution_count": 11,
   "metadata": {},
   "outputs": [
    {
     "data": {
      "image/png": "[encoded data removed]",
      "text/plain": [
       "<Figure size 432x288 with 2 Axes>"
      ]
     },
     "metadata": {},
     "output_type": "display_data"
    }
   ],
   "source": [
    "X_star = np.fromfunction(lambda i, j: np.where((25 <= j) & (j <= 74), (24**2 - (i+1-25)**2 - (j+1-50)**2)/100, 0), (50,100)) # like ternary\n",
    "X_star *= (np.abs(X_star) > 1)\n",
    "ax = sns.heatmap(X_star, vmin = -1, vmax = 1, cmap = 'bwr',square=True)"
   ]
  },
  {
   "cell_type": "code",
   "execution_count": 10,
   "metadata": {},
   "outputs": [],
   "source": [
    "nsims = 100\n",
    "n, d = X_star.shape\n",
    "sims = np.empty((nsims, n, d))\n",
    "for i in range(nsims):\n",
    "    sims[i] = X_star + np.random.randn(n, d)"
   ]
  },
  {
   "cell_type": "code",
   "execution_count": 11,
   "metadata": {},
   "outputs": [],
   "source": [
    "sims_copy = copy.deepcopy(sims)\n",
    "layers = 8\n",
    "ssvd_estimates = np.empty((layers, nsims, n, d))\n",
    "for i in range(layers):\n",
    "    ssvd_predictions = np.array(list(map(lambda x : x[2] * x[0] @ x[1].T, map(lambda x : ssvd(x, tol = 1e-3, max_iter = 40), sims_copy))))\n",
    "    ssvd_estimates[i] = ssvd_predictions\n",
    "    sims_copy -= ssvd_predictions"
   ]
  },
  {
   "cell_type": "code",
   "execution_count": 12,
   "metadata": {},
   "outputs": [],
   "source": [
    "svd_decomps = list(map(lambda x : np.linalg.svd(x, full_matrices = False), sims_copy))\n",
    "svd_estimates = np.empty((layers, nsims, n, d))\n",
    "for i in range(layers):\n",
    "    svd_estimates[i] = np.array(list(map(lambda x : x[1][i] * x[0][:,i][:,None] @ x[2][i,:][None,:],svd_decomps)))"
   ]
  },
  {
   "cell_type": "code",
   "execution_count": 13,
   "metadata": {},
   "outputs": [],
   "source": [
    "for i in range(1, layers):\n",
    "    ssvd_estimates[i] += ssvd_estimates[i-1]\n",
    "    svd_estimates[i] += svd_estimates[i-1]"
   ]
  },
  {
   "cell_type": "code",
   "execution_count": 14,
   "metadata": {},
   "outputs": [],
   "source": [
    "ssvd_classification = []\n",
    "ssvd_fro = []\n",
    "svd_classification = []\n",
    "svd_fro = []\n",
    "X_star_labels = X_star == 0\n",
    "for i in range(layers):\n",
    "    # Unsure how to get frobenius distance values... 4000?\n",
    "    ssvd_fro.append(np.mean(list(map(np.linalg.norm, ssvd_estimates[i] - X_star))))\n",
    "    svd_fro.append(np.mean(list(map(np.linalg.norm, svd_estimates[i] - X_star))))\n",
    "    ssvd_classification.append(np.mean(list((map(lambda x : np.mean((x == 0) == X_star_labels), ssvd_estimates[i])))))\n",
    "    svd_classification.append(np.mean(list((map(lambda x : np.mean((x == 0) == X_star_labels), svd_estimates[i])))))"
   ]
  },
  {
   "cell_type": "code",
   "execution_count": 15,
   "metadata": {},
   "outputs": [
    {
     "data": {
      "image/png": "[encoded data removed]",
      "text/plain": [
       "<Figure size 432x288 with 1 Axes>"
      ]
     },
     "metadata": {
      "needs_background": "light"
     },
     "output_type": "display_data"
    }
   ],
   "source": [
    "plt.plot(np.arange(1,9), ssvd_fro, label = \"SSVD\", color = \"red\")\n",
    "plt.plot(np.arange(1,9), svd_fro, label = \"SVD\", color = \"blue\", linestyle = \"dashed\")\n",
    "plt.xlabel(\"Number of Layers\")\n",
    "plt.title(\"Frobenius distance\");"
   ]
  },
  {
   "cell_type": "code",
   "execution_count": 16,
   "metadata": {},
   "outputs": [
    {
     "data": {
      "image/png": "[encoded data removed]",
      "text/plain": [
       "<Figure size 432x288 with 1 Axes>"
      ]
     },
     "metadata": {
      "needs_background": "light"
     },
     "output_type": "display_data"
    }
   ],
   "source": [
    "plt.plot(np.arange(1,9), ssvd_classification, label = \"SSVD\", color = \"red\")\n",
    "plt.plot(np.arange(1,9), svd_classification, label = \"SVD\", color = \"blue\", linestyle = \"dashed\")\n",
    "plt.xlabel(\"Number of Layers\")\n",
    "plt.ylim([0.3, 1])\n",
    "plt.xlim([1, 8])\n",
    "plt.title(\"Correctly classified entries\")\n",
    "plt.legend();"
   ]
  },
  {
   "cell_type": "code",
   "execution_count": null,
   "metadata": {},
   "outputs": [],
   "source": [
    "# ToDo: Apply RoBiC, Figure out Frobenius distance, and compare with Figure 5"
   ]
  },
  {
   "cell_type": "markdown",
   "metadata": {},
   "source": [
    "# Company Financial Fraud Data"
   ]
  },
  {
   "cell_type": "code",
   "execution_count": 4,
   "metadata": {},
   "outputs": [],
   "source": [
    "X_com = np.loadtxt('company.txt').T"
   ]
  },
  {
   "cell_type": "code",
   "execution_count": 5,
   "metadata": {},
   "outputs": [],
   "source": [
    "u1, v1, s1 = ssvd(X_com)\n",
    "X_com -= s1*(u1 @ v1.T)\n",
    "u2, v2, s2 = ssvd(X_com)\n",
    "X_com -= s2*(u2 @ v2.T)\n",
    "u3, v3, s3 = ssvd(X_com)"
   ]
  },
  {
   "cell_type": "markdown",
   "metadata": {},
   "source": [
    "group_indices "
   ]
  },
  {
   "cell_type": "code",
   "execution_count": 10,
   "metadata": {},
   "outputs": [
    {
     "data": {
      "image/png": "[encoded data removed]",
      "text/plain": [
       "<Figure size 720x720 with 4 Axes>"
      ]
     },
     "metadata": {
      "needs_background": "light"
     },
     "output_type": "display_data"
    }
   ],
   "source": [
    "group_indices = [np.arange(), np.arange(15,35)]\n",
    "markers = [\"o\", \"x\"]\n",
    "labels = [\"Yes\", \"No\"]\n",
    "fig, axs = plt.subplots(2, 2, figsize=(10, 10))\n",
    "for row in axs:\n",
    "    for ax in row:\n",
    "        ax.set_xlim([-0.4, 0.4])\n",
    "        ax.set_ylim([-0.4, 0.4])\n",
    "for i in range(len(group_indices)):\n",
    "    group = group_indices[i]\n",
    "    axs[0,0].scatter(u1[group], u2[group], marker = markers[i])\n",
    "    axs[1,0].scatter(u1[group], u3[group], marker = markers[i])\n",
    "    axs[1,1].scatter(u2[group], u3[group], marker = markers[i])\n",
    "    axs[0,1].scatter(0, 0, marker = markers[i], label = labels[i])\n",
    "axs[0,1].legend(loc = 10, fontsize=27).get_frame().set_edgecolor('black')\n",
    "axs[0,0].set_xlabel(\"u1\")\n",
    "axs[1,0].set_xlabel(\"u1\")\n",
    "axs[1,1].set_xlabel(\"u2\")\n",
    "axs[0,0].set_ylabel(\"u2\")\n",
    "axs[1,0].set_ylabel(\"u3\")\n",
    "axs[1,1].set_ylabel(\"u3\")\n",
    "axs[0,1].set_yticks(()) \n",
    "axs[0,1].set_xticks(());"
   ]
  },
  {
   "cell_type": "code",
   "execution_count": 20,
   "metadata": {},
   "outputs": [],
   "source": [
    "def get_X_for_plotting(u, v, s):\n",
    "    group_indices = [np.arange(15), np.arange(15,35)]\n",
    "    for group in group_indices:\n",
    "        u[group] = np.sort(u[group], axis = 0)\n",
    "\n",
    "    v_nonzero = v[np.argsort(np.abs(v), axis = 0).flatten()]\n",
    "    v = np.sort(v_nonzero, axis = 0)\n",
    "    return s * u @ v.T"
   ]
  },
  {
   "cell_type": "code",
   "execution_count": 21,
   "metadata": {},
   "outputs": [],
   "source": [
    "X1 = get_X_for_plotting(u1, v1, s1)\n",
    "X2 = get_X_for_plotting(u2, v2, s2)\n",
    "X3 = get_X_for_plotting(u3, v3, s3)\n",
    "max_val = np.max(np.abs(np.c_[X1,X2,X3]))\n",
    "# rescale for increased contrast due to differing colormap\n",
    "rescale = 3\n",
    "X1 /= max_val/rescale\n",
    "X2 /= max_val/rescale\n",
    "X3 /= max_val/rescale"
   ]
  },
  {
   "cell_type": "code",
   "execution_count": 47,
   "metadata": {},
   "outputs": [],
   "source": [
    "def plot_comp(X, title, ax_given, cbar_ax, yticklabels):\n",
    "    ax = sns.heatmap(X, vmin = -1, vmax = 1, cmap = 'bwr', ax = ax_given, cbar_ax = cbar_ax)\n",
    "    ax.hlines([15], *ax.get_xlim(), linestyle=':', color = 'sienna')\n",
    "   # ax.vlines([xticks[0], xticks[1]], *ax.get_xlim(), linestyle=':', color = 'sienna')\n",
    "    #ax.set_xticks((xticks[0], xticks[1])) \n",
    "    #ax.set_xticklabels((str(xticks[0]), str(xticks[1])), rotation = 0)\n",
    "    ax.set_yticks((10,50)) \n",
    "    ax.set_yticklabels(yticklabels) \n",
    "    ax.set_title(title)\n",
    "    ax.set_xlabel(\"Company index\");"
   ]
  },
  {
   "cell_type": "code",
   "execution_count": 48,
   "metadata": {},
   "outputs": [
    {
     "data": {
      "image/png": "[encoded data removed]",
      "text/plain": [
       "<Figure size 1152x288 with 4 Axes>"
      ]
     },
     "metadata": {
      "needs_background": "light"
     },
     "output_type": "display_data"
    }
   ],
   "source": [
    "fig, (ax1, ax2, ax3) = plt.subplots(ncols=3, figsize=(16, 4))\n",
    "cbar_ax = fig.add_axes([.92, .12, .02, 0.76])\n",
    "plot_comp(X1, \"1st Layer\", ax1, cbar_ax, (\"Fraud\", \"No\"))\n",
    "plot_comp(X2, \"2nd Layer\", ax2, cbar_ax, ())\n",
    "plot_comp(X3, \"3rd Layer\", ax3, cbar_ax, ())"
   ]
  }
 ],
 "metadata": {
  "kernelspec": {
   "display_name": "Python 3",
   "language": "python",
   "name": "python3"
  },
  "language_info": {
   "codemirror_mode": {
    "name": "ipython",
    "version": 3
   },
   "file_extension": ".py",
   "mimetype": "text/x-python",
   "name": "python",
   "nbconvert_exporter": "python",
   "pygments_lexer": "ipython3",
   "version": "3.7.9"
  }
 },
 "nbformat": 4,
 "nbformat_minor": 4
}
